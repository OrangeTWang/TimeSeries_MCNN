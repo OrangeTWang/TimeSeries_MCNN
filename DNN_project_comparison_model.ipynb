{
  "nbformat": 4,
  "nbformat_minor": 0,
  "metadata": {
    "colab": {
      "name": "Copy of DNN_project_comparison_model.ipynb",
      "provenance": [],
      "collapsed_sections": []
    },
    "kernelspec": {
      "name": "python3",
      "display_name": "Python 3"
    },
    "accelerator": "GPU"
  },
  "cells": [
    {
      "cell_type": "code",
      "metadata": {
        "colab": {
          "base_uri": "https://localhost:8080/"
        },
        "id": "P3jUBxF8_FzZ",
        "outputId": "0a6d1f51-e58f-40e1-ee0f-5be044f5c3b5"
      },
      "source": [
        "from google.colab import drive\r\n",
        "drive.mount('/content/gdrive')\r\n",
        "%cd /content/gdrive/My\\ Drive/EE137/ecg_matlab\r\n",
        "# just upload the data folder to your drive ** i wasn't able to access the shared with me folder"
      ],
      "execution_count": 1,
      "outputs": [
        {
          "output_type": "stream",
          "text": [
            "Mounted at /content/gdrive\n",
            "/content/gdrive/.shortcut-targets-by-id/1F6dOmt_qav0uuQ5vNcV-7Nyk2bMhTC9l/EE137/ecg_matlab\n"
          ],
          "name": "stdout"
        }
      ]
    },
    {
      "cell_type": "code",
      "metadata": {
        "id": "esxvh8NqDNeI"
      },
      "source": [
        "import tensorflow as tf\r\n",
        "import numpy as np\r\n",
        "import pandas as pd\r\n",
        "from scipy.io import loadmat\r\n",
        "from tensorflow import keras\r\n",
        "from scipy.io import loadmat\r\n",
        "from tensorflow.keras.layers import Dense, Flatten, Conv1D, Conv2D, BatchNormalization, MaxPooling1D,MaxPooling2D, Dropout, Input,Concatenate\r\n",
        "from tensorflow.keras.models import Model, load_model\r\n",
        "from tensorflow.keras.metrics import CategoricalAccuracy\r\n",
        "from tensorflow.keras.utils import to_categorical\r\n",
        "from tensorflow.keras.optimizers import RMSprop, Adam\r\n",
        "from tensorflow.keras.callbacks import EarlyStopping"
      ],
      "execution_count": 2,
      "outputs": []
    },
    {
      "cell_type": "code",
      "metadata": {
        "id": "-M1kdND2CXwg"
      },
      "source": [
        "def downsample(original_data, sampling_rate = [2, 3, 4]):\r\n",
        "  '''input: original data(timesteps x num of channel)(e.g. ecg5days data: 136 x 1)\r\n",
        "     output: list of original signal and 3 downsampled signals based on the sampling rate  and list of signal lengths\r\n",
        "  '''\r\n",
        "  downsampled_data = [original_data]\r\n",
        "  down_len = [original_data.shape[1]]\r\n",
        "  for k in sampling_rate:\r\n",
        "      n = original_data.shape[1]\r\n",
        "      end_point = (n - 1) // k\r\n",
        "      sampling_points = k * np.arange(end_point)\r\n",
        "      downsampled_data.append(original_data[:, sampling_points])\r\n",
        "      down_len.append(len(sampling_points))\r\n",
        "  \r\n",
        "  return downsampled_data, down_len\r\n",
        "\r\n",
        "def moving_average(data, smoothing_factor = [2, 3, 4]):\r\n",
        "  '''input: original data(timesteps x no of channel)(e.g. ecg5days data: 136 x 1)\r\n",
        "     output: list of original signal and 3 downsampled signals based on the smoothing factor  and list of signal lengths\r\n",
        "  '''\r\n",
        "  movavg_data = list()\r\n",
        "  movavg_len = list()\r\n",
        "  for w in smoothing_factor:\r\n",
        "      n, d = data.shape \r\n",
        "      output_len = d - w + 1\r\n",
        "      movavg_len.append(output_len)\r\n",
        "      output = np.zeros((n, output_len))\r\n",
        "      for i in range(output_len):\r\n",
        "          output[:,i] = np.mean(data[:, i : i + w], axis = 1)\r\n",
        "      movavg_data.append(output)\r\n",
        "  \r\n",
        "  return movavg_data, movavg_len\r\n",
        "\r\n",
        "# def slicing_data(data, data_y, slice_ratio = 0.6): \r\n",
        "#   '''slice the data based on slice ratio\r\n",
        "#   '''\r\n",
        "#   if slice_ratio == 1:\r\n",
        "#       return data, data_y\r\n",
        "#   n, length = data.shape\r\n",
        "#   length_sliced = int(length * slice_ratio)\r\n",
        "#   increase_num = length - length_sliced + 1 \r\n",
        "#   n_sliced = n * increase_num\r\n",
        "#   new_x = np.zeros((n_sliced, length_sliced))\r\n",
        "#   new_y = np.zeros((n_sliced, data_y.shape[1]))\r\n",
        "#   print('n, increase_num', n, increase_num)\r\n",
        "#   for i in range(n):\r\n",
        "#       for j in range(n_sliced):\r\n",
        "#           new_x[i * increase_num + j, :] = data[i,j : j + length_sliced]\r\n",
        "#           new_y[i * increase_num + j, :] = data_y[i]\r\n",
        "#   return new_x, new_y\r\n",
        "\r\n",
        "'''\r\n",
        "Function sliding_window_seg is used to segment data depending on window_size and stride,\r\n",
        "If window_size == stride, then no overlap. \r\n",
        "'''\r\n",
        "def sliding_window_seg(data, label, window_size, stride=1000):\r\n",
        "    trunc_data = data\r\n",
        "    print(trunc_data.shape)\r\n",
        "    modulo = np.mod(trunc_data.shape[1]-window_size, stride)\r\n",
        "    print(modulo)\r\n",
        "    data_all = trunc_data[:,modulo:]\r\n",
        "    row_num = int(((data_all.shape[1] - window_size)// stride + 1) * trunc_data.shape[0])\r\n",
        "    num_chunk = int((data_all.shape[1] - window_size)// stride + 1)\r\n",
        "    new_data = np.zeros((row_num, window_size))\r\n",
        "    print(new_data.shape)\r\n",
        "    new_label = np.zeros((row_num, label.shape[1]))\r\n",
        "    print(new_label.shape)\r\n",
        "    for i in range(data_all.shape[0]):\r\n",
        "      for j in range(num_chunk):\r\n",
        "        new_data[i * num_chunk + j] = data_all[i, j * window_size: (j + 1)* window_size]\r\n",
        "        new_label[i * num_chunk + j] = label[i] \r\n",
        "    return new_data, new_label \r\n",
        "  "
      ],
      "execution_count": 3,
      "outputs": []
    },
    {
      "cell_type": "code",
      "metadata": {
        "id": "D8iRU8kK386i"
      },
      "source": [
        "'''\n",
        "Function read_from_mat is for reading .mat file in numpy format, at the same time\n",
        "class label is converted to one-hot encoding  \n",
        "'''\n",
        "def read_from_mat(data_file_name, label_file_name):\n",
        "  data = loadmat(data_file_name, struct_as_record=False,squeeze_me=True)\n",
        "  lb = loadmat(label_file_name)\n",
        "  ecg_data = data['ECGData'].Data\n",
        "  ecg_lb = np.squeeze(lb['label']) - 1\n",
        "  # convert label to one-hot\n",
        "  shape = (ecg_lb.size, ecg_lb.max() + 1)\n",
        "  one_hot_lb = np.zeros(shape)\n",
        "  rows = np.arange(ecg_lb.size)\n",
        "  one_hot_lb[rows, ecg_lb] = 1\n",
        "  return ecg_data, ecg_lb, one_hot_lb"
      ],
      "execution_count": 4,
      "outputs": []
    },
    {
      "cell_type": "code",
      "metadata": {
        "id": "qVaQslwwMMZo",
        "colab": {
          "base_uri": "https://localhost:8080/"
        },
        "outputId": "df1eb859-0870-4e36-d3ae-6c0c45d6205f"
      },
      "source": [
        "ecg_data, _, ecg_label = read_from_mat('ECGData.mat', 'ecg_label.mat')\r\n",
        "\r\n",
        "ecg_data_new, ecg_label_new = sliding_window_seg(ecg_data, ecg_label, 1000, stride=1000)\r\n",
        "print(ecg_data_new.shape)\r\n",
        "print(ecg_label_new.shape)\r\n"
      ],
      "execution_count": 5,
      "outputs": [
        {
          "output_type": "stream",
          "text": [
            "(162, 65536)\n",
            "536\n",
            "(10530, 1000)\n",
            "(10530, 3)\n",
            "(10530, 1000)\n",
            "(10530, 3)\n"
          ],
          "name": "stdout"
        }
      ]
    },
    {
      "cell_type": "code",
      "metadata": {
        "id": "76lJ0BjGmR8v"
      },
      "source": [
        "down_sample,  down_sample_len = downsample(ecg_data_new)\n",
        "mov_avg, mov_avg_len = moving_average(ecg_data_new)"
      ],
      "execution_count": 6,
      "outputs": []
    },
    {
      "cell_type": "code",
      "metadata": {
        "id": "X33cPumHBm7F",
        "colab": {
          "base_uri": "https://localhost:8080/",
          "height": 607
        },
        "outputId": "378e8447-d0eb-4b36-86f4-50117f30c8fc"
      },
      "source": [
        "'''\n",
        "Sanatity Check, if the data is sliced and read correctly? Please play with the index\n",
        "For visulization\n",
        "'''\n",
        "import matplotlib.pyplot as plt\n",
        "\n",
        "# type 1\n",
        "fig, ax = plt.subplots(3, 1, sharey=True)\n",
        "ax[0].plot(ecg_data_new[0], label ='org')\n",
        "ax[0].set_title('ARR ECG Original')\n",
        "ax[1].plot(down_sample[3][0],label ='down_sample')\n",
        "ax[1].set_title('ARR ECG Downsample')\n",
        "ax[2].plot(mov_avg[2][0],label ='down_sample')\n",
        "ax[2].set_title('ARR ECG Moving Average')\n",
        "fig.set_size_inches(10, 10)\n",
        "\n",
        "fig.savefig('vis_multi_scale.png', dpi=100)\n",
        "# plt.plot(ecg_data_new[0], label ='org')\n",
        "# plt.plot(down_sample[1][0],label ='down_sample')\n",
        "# plt.plot(mov_avg[1][0], label = 'mov')\n",
        "# plt.legend()\n",
        "# plt.show()\n",
        "# # type 2\n",
        "# plt.plot(ecg_data_new[10000], label ='org')\n",
        "# plt.plot(down_sample[1][10000],label ='down_sample')\n",
        "# plt.plot(mov_avg[1][10000], label = 'mov')\n",
        "# plt.legend()"
      ],
      "execution_count": 7,
      "outputs": [
        {
          "output_type": "display_data",
          "data": {
            "image/png": "[encoded data removed]",
            "text/plain": [
              "<Figure size 720x720 with 3 Axes>"
            ]
          },
          "metadata": {
            "tags": [],
            "needs_background": "light"
          }
        }
      ]
    },
    {
      "cell_type": "code",
      "metadata": {
        "id": "9fTzJctzPtZ1"
      },
      "source": [
        ""
      ],
      "execution_count": 7,
      "outputs": []
    },
    {
      "cell_type": "code",
      "metadata": {
        "id": "qZmbK4RDMN2P"
      },
      "source": [
        "'''\r\n",
        "Number of training data is ratio * data.shape[0]\r\n",
        "'''\r\n",
        "def train_test_split(data, label, ratio):\r\n",
        "    # shuffle train data\r\n",
        "    perm = np.arange(data.shape[0])\r\n",
        "    np.random.shuffle(perm)\r\n",
        "    X = data[perm]\r\n",
        "    y = label[perm]\r\n",
        "    train_idx = int(data.shape[0] * ratio)\r\n",
        "    X_train, X_test = X[:train_idx], X[train_idx:]\r\n",
        "    y_train, y_test = y[:train_idx], y[train_idx:]\r\n",
        "    \r\n",
        "    return X_train, X_test, y_train, y_test\r\n",
        "\r\n",
        "X_train, X_test, y_train, y_test = train_test_split(ecg_data_new, ecg_label_new, 0.8)"
      ],
      "execution_count": 8,
      "outputs": []
    },
    {
      "cell_type": "code",
      "metadata": {
        "colab": {
          "base_uri": "https://localhost:8080/"
        },
        "id": "-B6mAu9mSoT6",
        "outputId": "ed399d09-97f9-409a-c6d4-72f1a82fc563"
      },
      "source": [
        "X_train.shape"
      ],
      "execution_count": 9,
      "outputs": [
        {
          "output_type": "execute_result",
          "data": {
            "text/plain": [
              "(8424, 1000)"
            ]
          },
          "metadata": {
            "tags": []
          },
          "execution_count": 9
        }
      ]
    },
    {
      "cell_type": "code",
      "metadata": {
        "id": "0MVHOzvHxEVH"
      },
      "source": [
        "'''\n",
        "Generate input data that is compatable with our model, i.e.  downsampled data and \n",
        "moving average data\n",
        "'''\n",
        "\n",
        "def generate_dataset(data):\n",
        "  downsampled_data, _ = downsample(data)\n",
        "  movavg_data, _ = moving_average(data)\n",
        "  return [downsampled_data[0], downsampled_data[1], downsampled_data[2], downsampled_data[3],\n",
        "            movavg_data[0], movavg_data[1], movavg_data[2]]\n",
        "\n",
        "X_train_final = generate_dataset(X_train)\n",
        "X_test_final = generate_dataset(X_test)\n"
      ],
      "execution_count": 10,
      "outputs": []
    },
    {
      "cell_type": "code",
      "metadata": {
        "id": "4BKwIQFRS9cA"
      },
      "source": [
        ""
      ],
      "execution_count": 10,
      "outputs": []
    },
    {
      "cell_type": "code",
      "metadata": {
        "colab": {
          "base_uri": "https://localhost:8080/"
        },
        "id": "s6VFarCvSlUv",
        "outputId": "85bfded3-a8e8-4a6f-a3f4-f749e09d3b58"
      },
      "source": [
        "# Check the shape\n",
        "print(X_train_final[1].shape, X_test_final[1].shape)\n"
      ],
      "execution_count": 11,
      "outputs": [
        {
          "output_type": "stream",
          "text": [
            "(8424, 499) (2106, 499)\n"
          ],
          "name": "stdout"
        }
      ]
    },
    {
      "cell_type": "code",
      "metadata": {
        "id": "9ggIyjTovBV3"
      },
      "source": [
        ""
      ],
      "execution_count": 11,
      "outputs": []
    },
    {
      "cell_type": "code",
      "metadata": {
        "id": "NU4yyrR2Ckfz"
      },
      "source": [
        "# Generate the base model\r\n",
        "def get_base_model(input_len, stride, dim = 1):\r\n",
        "  \"\"\"input_len: num of times steps\r\n",
        "     dim: no of channels\r\n",
        "  \"\"\"\r\n",
        "  inputs = Input(shape =(input_len, dim), name = 'input')\r\n",
        "  #add layers/ change filters, kernel_size\r\n",
        "  x = Conv1D(filters = 64, kernel_size = 3, activation ='relu',padding='same',strides=stride)(inputs)\r\n",
        "  x = Conv1D(filters=32, kernel_size=3, activation='relu',padding='same',strides=stride)(x)\r\n",
        "  x = Dropout(0.2)(x)\r\n",
        "  x = MaxPooling1D(pool_size=5)(x)\r\n",
        "  outputs = Flatten()(x)\r\n",
        "  outputs = Dense(128)(outputs)\r\n",
        "  base_model = Model(inputs, outputs = outputs)\r\n",
        "  return base_model\r\n",
        "\r\n",
        "def get_wav_model(input_shape, stride=2, dim = 3):\r\n",
        "  # input_shape should be a list with the first element as length, the second \r\n",
        "  # element as width\r\n",
        "\r\n",
        "  inputs = Input(shape =(input_shape[0], input_shape[1], dim), name = 'input')\r\n",
        "\r\n",
        "  x = Conv2D(filters=64, kernel_size = 3, activation ='relu',padding='same',strides=stride)(inputs)\r\n",
        "  x = Conv2D(filters=32, kernel_size=3, activation='relu',padding='same',strides=stride)(x)\r\n",
        "  x = Dropout(0.2)(x)\r\n",
        "  x = MaxPooling2D(pool_size=2)(x)\r\n",
        "  outputs = Flatten()(x)\r\n",
        "  outputs = Dense(128)(outputs)\r\n",
        "  base_model = Model(inputs, outputs = outputs)\r\n",
        "  return base_model"
      ],
      "execution_count": 12,
      "outputs": []
    },
    {
      "cell_type": "code",
      "metadata": {
        "id": "L3U9LtYkKjy7"
      },
      "source": [
        "# only for getting the lengh, can be deleted later\r\n",
        "_, down_len = downsample(X_train, sampling_rate = [2, 3, 4])\r\n",
        "_, movavg_len = moving_average(X_train, smoothing_factor = [2, 3, 4])"
      ],
      "execution_count": 13,
      "outputs": []
    },
    {
      "cell_type": "code",
      "metadata": {
        "colab": {
          "base_uri": "https://localhost:8080/"
        },
        "id": "0ZsdN7HhPAvS",
        "outputId": "16ed981a-c753-4c80-cd4a-a117b5dfe006"
      },
      "source": [
        "wave_model = get_wav_model([28,28])\n",
        "wave_model.summary()"
      ],
      "execution_count": 14,
      "outputs": [
        {
          "output_type": "stream",
          "text": [
            "Model: \"model\"\n",
            "_________________________________________________________________\n",
            "Layer (type)                 Output Shape              Param #   \n",
            "=================================================================\n",
            "input (InputLayer)           [(None, 28, 28, 3)]       0         \n",
            "_________________________________________________________________\n",
            "conv2d (Conv2D)              (None, 14, 14, 64)        1792      \n",
            "_________________________________________________________________\n",
            "conv2d_1 (Conv2D)            (None, 7, 7, 32)          18464     \n",
            "_________________________________________________________________\n",
            "dropout (Dropout)            (None, 7, 7, 32)          0         \n",
            "_________________________________________________________________\n",
            "max_pooling2d (MaxPooling2D) (None, 3, 3, 32)          0         \n",
            "_________________________________________________________________\n",
            "flatten (Flatten)            (None, 288)               0         \n",
            "_________________________________________________________________\n",
            "dense (Dense)                (None, 128)               36992     \n",
            "=================================================================\n",
            "Total params: 57,248\n",
            "Trainable params: 57,248\n",
            "Non-trainable params: 0\n",
            "_________________________________________________________________\n"
          ],
          "name": "stdout"
        }
      ]
    },
    {
      "cell_type": "code",
      "metadata": {
        "id": "IbmfHt4CKsbj"
      },
      "source": [
        "# base_model = get_base_model(1000, 4, dim = 1)\r\n",
        "# base_model.summary()"
      ],
      "execution_count": 15,
      "outputs": []
    },
    {
      "cell_type": "code",
      "metadata": {
        "id": "ZYyStJgILQ_G"
      },
      "source": [
        "'''\r\n",
        "generate the main model\r\n",
        "stride: same for all base model\r\n",
        "down_len, movavg_len, wave_shape: should all be list\r\n",
        "'''\r\n",
        "def main_model(stride, num_classes, down_len, movavg_len, wave_shape):\r\n",
        "    \r\n",
        "    #generate input shapes for original and downsampled data\r\n",
        "    org_data_input = Input(shape = (down_len[0], 1))\r\n",
        "    down_factor2_input = Input(shape = (down_len[1], 1))\r\n",
        "    down_factor3_input = Input(shape = (down_len[2], 1))\r\n",
        "    down_factor4_input = Input(shape = (down_len[3], 1))\r\n",
        "    \r\n",
        "    #generate input shapes for smoothing filtered data\r\n",
        "    movavg_factor2_input = Input(shape = (movavg_len[0], 1))\r\n",
        "    movavg_factor3_input = Input(shape = (movavg_len[1], 1))\r\n",
        "    movavg_factor4_input = Input(shape = (movavg_len[2], 1))\r\n",
        "    \r\n",
        "    # generate input shape for wavelet data, note that the last element for shape is number of channels \r\n",
        "    wave_input = Input(shape =(wave_shape[0], wave_shape[1], 3))\r\n",
        "\r\n",
        "    #create base model for original and downsampled data\r\n",
        "    base_org = get_base_model(down_len[0], stride)\r\n",
        "    base_factor_2 = get_base_model(down_len[1], stride)\r\n",
        "    base_factor_3 = get_base_model(down_len[2], stride)\r\n",
        "    base_factor_4 = get_base_model(down_len[3], stride)\r\n",
        "    \r\n",
        "    #create base model for smoothing filtered data\r\n",
        "    movavg_base_factor_2 = get_base_model(movavg_len[0], stride)\r\n",
        "    movavg_base_factor_3 = get_base_model(movavg_len[1], stride)\r\n",
        "    movavg_base_factor_4 = get_base_model(movavg_len[2], stride)\r\n",
        "\r\n",
        "    # Boyang added: create base model for wavelet data, please check\r\n",
        "    # wave_base = get_wav_model(wave_shape, stride)\r\n",
        "\r\n",
        "    #create the final model for original and downsampled data\r\n",
        "    embed_org = base_org(org_data_input)\r\n",
        "    embed_factor2 = base_factor_2(down_factor2_input)\r\n",
        "    embed_factor3 = base_factor_3(down_factor3_input)\r\n",
        "    embed_factor4 = base_factor_4(down_factor4_input)\r\n",
        "    \r\n",
        "    #create the final model for smoothing filtered data\r\n",
        "    movavg_embed_factor2 = movavg_base_factor_2(movavg_factor2_input)\r\n",
        "    movavg_embed_factor3 = movavg_base_factor_3(movavg_factor3_input)\r\n",
        "    movavg_embed_factor4 = movavg_base_factor_4(movavg_factor4_input)\r\n",
        "\r\n",
        "    # Boyang added: create the final model for wavelet data, please check\r\n",
        "    # embed_wave = wave_base(wave_input)\r\n",
        "\r\n",
        "    # concatenate the base models from downsampled and smoothing and original data\r\n",
        "    # Boyang modified: the wavelet model is the last one\r\n",
        "    merged = Concatenate()([embed_org, embed_factor2, embed_factor3, embed_factor4, movavg_embed_factor2, \r\n",
        "                            movavg_embed_factor3, movavg_embed_factor4 ]) #embed_wave\r\n",
        "    # apply some convolutional network\r\n",
        "    print(merged.shape)\r\n",
        "    compressed = Dense(50, activation=\"tanh\")(merged)\r\n",
        "    compressed = Dropout(0.3)(compressed)\r\n",
        "    outputs = Dense(num_classes, activation='softmax', name='predictions')(compressed)\r\n",
        "    # Boyang modified: the wavelet model is the last one\r\n",
        "    model = Model(inputs=[org_data_input, down_factor2_input, down_factor3_input, down_factor4_input,\r\n",
        "                         movavg_factor2_input, movavg_factor3_input, movavg_factor4_input], outputs=outputs)#wave_input\r\n",
        "    return model"
      ],
      "execution_count": 16,
      "outputs": []
    },
    {
      "cell_type": "code",
      "metadata": {
        "colab": {
          "base_uri": "https://localhost:8080/"
        },
        "id": "zekDXBRgLoOA",
        "outputId": "b2f8e461-4293-43de-9caa-7e373867ea80"
      },
      "source": [
        "model = main_model(stride=4, num_classes=3,down_len = down_len, movavg_len = movavg_len, wave_shape=[28,28])\r\n",
        "model.summary()"
      ],
      "execution_count": 17,
      "outputs": [
        {
          "output_type": "stream",
          "text": [
            "(None, 896)\n",
            "Model: \"model_8\"\n",
            "__________________________________________________________________________________________________\n",
            "Layer (type)                    Output Shape         Param #     Connected to                     \n",
            "==================================================================================================\n",
            "input_1 (InputLayer)            [(None, 1000, 1)]    0                                            \n",
            "__________________________________________________________________________________________________\n",
            "input_2 (InputLayer)            [(None, 499, 1)]     0                                            \n",
            "__________________________________________________________________________________________________\n",
            "input_3 (InputLayer)            [(None, 333, 1)]     0                                            \n",
            "__________________________________________________________________________________________________\n",
            "input_4 (InputLayer)            [(None, 249, 1)]     0                                            \n",
            "__________________________________________________________________________________________________\n",
            "input_5 (InputLayer)            [(None, 999, 1)]     0                                            \n",
            "__________________________________________________________________________________________________\n",
            "input_6 (InputLayer)            [(None, 998, 1)]     0                                            \n",
            "__________________________________________________________________________________________________\n",
            "input_7 (InputLayer)            [(None, 997, 1)]     0                                            \n",
            "__________________________________________________________________________________________________\n",
            "model_1 (Functional)            (None, 128)          55712       input_1[0][0]                    \n",
            "__________________________________________________________________________________________________\n",
            "model_2 (Functional)            (None, 128)          31136       input_2[0][0]                    \n",
            "__________________________________________________________________________________________________\n",
            "model_3 (Functional)            (None, 128)          22944       input_3[0][0]                    \n",
            "__________________________________________________________________________________________________\n",
            "model_4 (Functional)            (None, 128)          18848       input_4[0][0]                    \n",
            "__________________________________________________________________________________________________\n",
            "model_5 (Functional)            (None, 128)          55712       input_5[0][0]                    \n",
            "__________________________________________________________________________________________________\n",
            "model_6 (Functional)            (None, 128)          55712       input_6[0][0]                    \n",
            "__________________________________________________________________________________________________\n",
            "model_7 (Functional)            (None, 128)          55712       input_7[0][0]                    \n",
            "__________________________________________________________________________________________________\n",
            "concatenate (Concatenate)       (None, 896)          0           model_1[0][0]                    \n",
            "                                                                 model_2[0][0]                    \n",
            "                                                                 model_3[0][0]                    \n",
            "                                                                 model_4[0][0]                    \n",
            "                                                                 model_5[0][0]                    \n",
            "                                                                 model_6[0][0]                    \n",
            "                                                                 model_7[0][0]                    \n",
            "__________________________________________________________________________________________________\n",
            "dense_8 (Dense)                 (None, 50)           44850       concatenate[0][0]                \n",
            "__________________________________________________________________________________________________\n",
            "dropout_8 (Dropout)             (None, 50)           0           dense_8[0][0]                    \n",
            "__________________________________________________________________________________________________\n",
            "predictions (Dense)             (None, 3)            153         dropout_8[0][0]                  \n",
            "==================================================================================================\n",
            "Total params: 340,779\n",
            "Trainable params: 340,779\n",
            "Non-trainable params: 0\n",
            "__________________________________________________________________________________________________\n"
          ],
          "name": "stdout"
        }
      ]
    },
    {
      "cell_type": "code",
      "metadata": {
        "id": "lUfiilmdVIct"
      },
      "source": [
        ""
      ],
      "execution_count": 17,
      "outputs": []
    },
    {
      "cell_type": "code",
      "metadata": {
        "colab": {
          "base_uri": "https://localhost:8080/"
        },
        "id": "Sl6vlXW8L8Gt",
        "outputId": "76312feb-18a8-4a95-8f53-4248d24e0f9d"
      },
      "source": [
        "\r\n",
        "\r\n",
        "# early stopping is optional\r\n",
        "# earlyStopping = EarlyStopping(monitor='val_loss', patience=20, verbose=0, mode='auto')\r\n",
        "# model.fit(train_data_generator(batch_size=32), epochs=epoches, verbose=1,steps_per_epoch = 2,\r\n",
        "#           validation_data=test_data_generator(batch_size = 32))\r\n",
        "\r\n",
        "\r\n",
        "model.compile(\r\n",
        "    optimizer=tf.keras.optimizers.Adam(lr=0.001),\r\n",
        "    loss=tf.keras.losses.CategoricalCrossentropy(from_logits=False),\r\n",
        "    metrics=[tf.keras.metrics.CategoricalAccuracy()],\r\n",
        ")\r\n",
        "\r\n",
        "trace = model.fit(x=X_train_final, y=y_train, batch_size=32, epochs=100, verbose=1, \r\n",
        "                  validation_split=0.1, shuffle=True)\r\n",
        "\r\n"
      ],
      "execution_count": 18,
      "outputs": [
        {
          "output_type": "stream",
          "text": [
            "Epoch 1/100\n",
            "237/237 [==============================] - 9s 12ms/step - loss: 0.6994 - categorical_accuracy: 0.6900 - val_loss: 0.4003 - val_categorical_accuracy: 0.8399\n",
            "Epoch 2/100\n",
            "237/237 [==============================] - 2s 9ms/step - loss: 0.4111 - categorical_accuracy: 0.8386 - val_loss: 0.3649 - val_categorical_accuracy: 0.8612\n",
            "Epoch 3/100\n",
            "237/237 [==============================] - 2s 9ms/step - loss: 0.3357 - categorical_accuracy: 0.8705 - val_loss: 0.2992 - val_categorical_accuracy: 0.8731\n",
            "Epoch 4/100\n",
            "237/237 [==============================] - 2s 9ms/step - loss: 0.2824 - categorical_accuracy: 0.8921 - val_loss: 0.2860 - val_categorical_accuracy: 0.8802\n",
            "Epoch 5/100\n",
            "237/237 [==============================] - 2s 9ms/step - loss: 0.2439 - categorical_accuracy: 0.9008 - val_loss: 0.2565 - val_categorical_accuracy: 0.8968\n",
            "Epoch 6/100\n",
            "237/237 [==============================] - 2s 9ms/step - loss: 0.2217 - categorical_accuracy: 0.9094 - val_loss: 0.2468 - val_categorical_accuracy: 0.9004\n",
            "Epoch 7/100\n",
            "237/237 [==============================] - 2s 9ms/step - loss: 0.1784 - categorical_accuracy: 0.9284 - val_loss: 0.2207 - val_categorical_accuracy: 0.9170\n",
            "Epoch 8/100\n",
            "237/237 [==============================] - 2s 9ms/step - loss: 0.1595 - categorical_accuracy: 0.9361 - val_loss: 0.2874 - val_categorical_accuracy: 0.8826\n",
            "Epoch 9/100\n",
            "237/237 [==============================] - 2s 9ms/step - loss: 0.1636 - categorical_accuracy: 0.9401 - val_loss: 0.1884 - val_categorical_accuracy: 0.9312\n",
            "Epoch 10/100\n",
            "237/237 [==============================] - 2s 9ms/step - loss: 0.1460 - categorical_accuracy: 0.9409 - val_loss: 0.1969 - val_categorical_accuracy: 0.9288\n",
            "Epoch 11/100\n",
            "237/237 [==============================] - 2s 9ms/step - loss: 0.1458 - categorical_accuracy: 0.9426 - val_loss: 0.1690 - val_categorical_accuracy: 0.9288\n",
            "Epoch 12/100\n",
            "237/237 [==============================] - 2s 9ms/step - loss: 0.1287 - categorical_accuracy: 0.9479 - val_loss: 0.1772 - val_categorical_accuracy: 0.9359\n",
            "Epoch 13/100\n",
            "237/237 [==============================] - 2s 9ms/step - loss: 0.1033 - categorical_accuracy: 0.9597 - val_loss: 0.1664 - val_categorical_accuracy: 0.9431\n",
            "Epoch 14/100\n",
            "237/237 [==============================] - 2s 9ms/step - loss: 0.1067 - categorical_accuracy: 0.9582 - val_loss: 0.1724 - val_categorical_accuracy: 0.9336\n",
            "Epoch 15/100\n",
            "237/237 [==============================] - 2s 9ms/step - loss: 0.1054 - categorical_accuracy: 0.9623 - val_loss: 0.2135 - val_categorical_accuracy: 0.9241\n",
            "Epoch 16/100\n",
            "237/237 [==============================] - 2s 10ms/step - loss: 0.1028 - categorical_accuracy: 0.9645 - val_loss: 0.1533 - val_categorical_accuracy: 0.9478\n",
            "Epoch 17/100\n",
            "237/237 [==============================] - 2s 9ms/step - loss: 0.0897 - categorical_accuracy: 0.9657 - val_loss: 0.1456 - val_categorical_accuracy: 0.9478\n",
            "Epoch 18/100\n",
            "237/237 [==============================] - 2s 9ms/step - loss: 0.0878 - categorical_accuracy: 0.9666 - val_loss: 0.1414 - val_categorical_accuracy: 0.9490\n",
            "Epoch 19/100\n",
            "237/237 [==============================] - 2s 9ms/step - loss: 0.0678 - categorical_accuracy: 0.9758 - val_loss: 0.1444 - val_categorical_accuracy: 0.9502\n",
            "Epoch 20/100\n",
            "237/237 [==============================] - 2s 9ms/step - loss: 0.0850 - categorical_accuracy: 0.9651 - val_loss: 0.3647 - val_categorical_accuracy: 0.9063\n",
            "Epoch 21/100\n",
            "237/237 [==============================] - 2s 9ms/step - loss: 0.1045 - categorical_accuracy: 0.9612 - val_loss: 0.1277 - val_categorical_accuracy: 0.9537\n",
            "Epoch 22/100\n",
            "237/237 [==============================] - 2s 9ms/step - loss: 0.0745 - categorical_accuracy: 0.9705 - val_loss: 0.2025 - val_categorical_accuracy: 0.9300\n",
            "Epoch 23/100\n",
            "237/237 [==============================] - 2s 9ms/step - loss: 0.0552 - categorical_accuracy: 0.9819 - val_loss: 0.1583 - val_categorical_accuracy: 0.9514\n",
            "Epoch 24/100\n",
            "237/237 [==============================] - 2s 9ms/step - loss: 0.0450 - categorical_accuracy: 0.9850 - val_loss: 0.1887 - val_categorical_accuracy: 0.9383\n",
            "Epoch 25/100\n",
            "237/237 [==============================] - 2s 9ms/step - loss: 0.0660 - categorical_accuracy: 0.9778 - val_loss: 0.1647 - val_categorical_accuracy: 0.9478\n",
            "Epoch 26/100\n",
            "237/237 [==============================] - 2s 9ms/step - loss: 0.0618 - categorical_accuracy: 0.9759 - val_loss: 0.1799 - val_categorical_accuracy: 0.9466\n",
            "Epoch 27/100\n",
            "237/237 [==============================] - 2s 9ms/step - loss: 0.0524 - categorical_accuracy: 0.9826 - val_loss: 0.1642 - val_categorical_accuracy: 0.9454\n",
            "Epoch 28/100\n",
            "237/237 [==============================] - 2s 9ms/step - loss: 0.0585 - categorical_accuracy: 0.9781 - val_loss: 0.1462 - val_categorical_accuracy: 0.9549\n",
            "Epoch 29/100\n",
            "237/237 [==============================] - 2s 9ms/step - loss: 0.0590 - categorical_accuracy: 0.9771 - val_loss: 0.1454 - val_categorical_accuracy: 0.9490\n",
            "Epoch 30/100\n",
            "237/237 [==============================] - 2s 9ms/step - loss: 0.0525 - categorical_accuracy: 0.9803 - val_loss: 0.1321 - val_categorical_accuracy: 0.9490\n",
            "Epoch 31/100\n",
            "237/237 [==============================] - 2s 9ms/step - loss: 0.0417 - categorical_accuracy: 0.9858 - val_loss: 0.1276 - val_categorical_accuracy: 0.9609\n",
            "Epoch 32/100\n",
            "237/237 [==============================] - 2s 9ms/step - loss: 0.0493 - categorical_accuracy: 0.9815 - val_loss: 0.1507 - val_categorical_accuracy: 0.9549\n",
            "Epoch 33/100\n",
            "237/237 [==============================] - 2s 9ms/step - loss: 0.0512 - categorical_accuracy: 0.9820 - val_loss: 0.1802 - val_categorical_accuracy: 0.9442\n",
            "Epoch 34/100\n",
            "237/237 [==============================] - 2s 9ms/step - loss: 0.0423 - categorical_accuracy: 0.9868 - val_loss: 0.1391 - val_categorical_accuracy: 0.9537\n",
            "Epoch 35/100\n",
            "237/237 [==============================] - 2s 9ms/step - loss: 0.0409 - categorical_accuracy: 0.9850 - val_loss: 0.1948 - val_categorical_accuracy: 0.9324\n",
            "Epoch 36/100\n",
            "237/237 [==============================] - 2s 9ms/step - loss: 0.0578 - categorical_accuracy: 0.9764 - val_loss: 0.1596 - val_categorical_accuracy: 0.9537\n",
            "Epoch 37/100\n",
            "237/237 [==============================] - 2s 9ms/step - loss: 0.0535 - categorical_accuracy: 0.9798 - val_loss: 0.1503 - val_categorical_accuracy: 0.9478\n",
            "Epoch 38/100\n",
            "237/237 [==============================] - 2s 9ms/step - loss: 0.0437 - categorical_accuracy: 0.9845 - val_loss: 0.1191 - val_categorical_accuracy: 0.9668\n",
            "Epoch 39/100\n",
            "237/237 [==============================] - 2s 10ms/step - loss: 0.0507 - categorical_accuracy: 0.9817 - val_loss: 0.1376 - val_categorical_accuracy: 0.9549\n",
            "Epoch 40/100\n",
            "237/237 [==============================] - 2s 9ms/step - loss: 0.0407 - categorical_accuracy: 0.9858 - val_loss: 0.1452 - val_categorical_accuracy: 0.9561\n",
            "Epoch 41/100\n",
            "237/237 [==============================] - 2s 8ms/step - loss: 0.0336 - categorical_accuracy: 0.9880 - val_loss: 0.1591 - val_categorical_accuracy: 0.9526\n",
            "Epoch 42/100\n",
            "237/237 [==============================] - 2s 9ms/step - loss: 0.0544 - categorical_accuracy: 0.9788 - val_loss: 0.1415 - val_categorical_accuracy: 0.9514\n",
            "Epoch 43/100\n",
            "237/237 [==============================] - 2s 9ms/step - loss: 0.0515 - categorical_accuracy: 0.9801 - val_loss: 0.1348 - val_categorical_accuracy: 0.9609\n",
            "Epoch 44/100\n",
            "237/237 [==============================] - 2s 9ms/step - loss: 0.0585 - categorical_accuracy: 0.9802 - val_loss: 0.1610 - val_categorical_accuracy: 0.9466\n",
            "Epoch 45/100\n",
            "237/237 [==============================] - 2s 9ms/step - loss: 0.0327 - categorical_accuracy: 0.9881 - val_loss: 0.1342 - val_categorical_accuracy: 0.9537\n",
            "Epoch 46/100\n",
            "237/237 [==============================] - 2s 9ms/step - loss: 0.0339 - categorical_accuracy: 0.9858 - val_loss: 0.1104 - val_categorical_accuracy: 0.9620\n",
            "Epoch 47/100\n",
            "237/237 [==============================] - 2s 9ms/step - loss: 0.0321 - categorical_accuracy: 0.9895 - val_loss: 0.1892 - val_categorical_accuracy: 0.9324\n",
            "Epoch 48/100\n",
            "237/237 [==============================] - 2s 10ms/step - loss: 0.0465 - categorical_accuracy: 0.9833 - val_loss: 0.1422 - val_categorical_accuracy: 0.9478\n",
            "Epoch 49/100\n",
            "237/237 [==============================] - 2s 9ms/step - loss: 0.0389 - categorical_accuracy: 0.9857 - val_loss: 0.1288 - val_categorical_accuracy: 0.9620\n",
            "Epoch 50/100\n",
            "237/237 [==============================] - 2s 9ms/step - loss: 0.0310 - categorical_accuracy: 0.9900 - val_loss: 0.1254 - val_categorical_accuracy: 0.9644\n",
            "Epoch 51/100\n",
            "237/237 [==============================] - 2s 9ms/step - loss: 0.0386 - categorical_accuracy: 0.9880 - val_loss: 0.1298 - val_categorical_accuracy: 0.9597\n",
            "Epoch 52/100\n",
            "237/237 [==============================] - 2s 9ms/step - loss: 0.0211 - categorical_accuracy: 0.9936 - val_loss: 0.1337 - val_categorical_accuracy: 0.9573\n",
            "Epoch 53/100\n",
            "237/237 [==============================] - 2s 9ms/step - loss: 0.0578 - categorical_accuracy: 0.9829 - val_loss: 0.1926 - val_categorical_accuracy: 0.9442\n",
            "Epoch 54/100\n",
            "237/237 [==============================] - 2s 9ms/step - loss: 0.0357 - categorical_accuracy: 0.9887 - val_loss: 0.1221 - val_categorical_accuracy: 0.9609\n",
            "Epoch 55/100\n",
            "237/237 [==============================] - 2s 9ms/step - loss: 0.0363 - categorical_accuracy: 0.9872 - val_loss: 0.1265 - val_categorical_accuracy: 0.9597\n",
            "Epoch 56/100\n",
            "237/237 [==============================] - 2s 9ms/step - loss: 0.0340 - categorical_accuracy: 0.9871 - val_loss: 0.1073 - val_categorical_accuracy: 0.9680\n",
            "Epoch 57/100\n",
            "237/237 [==============================] - 2s 9ms/step - loss: 0.0395 - categorical_accuracy: 0.9869 - val_loss: 0.1506 - val_categorical_accuracy: 0.9478\n",
            "Epoch 58/100\n",
            "237/237 [==============================] - 2s 9ms/step - loss: 0.0428 - categorical_accuracy: 0.9833 - val_loss: 0.1525 - val_categorical_accuracy: 0.9526\n",
            "Epoch 59/100\n",
            "237/237 [==============================] - 2s 9ms/step - loss: 0.0272 - categorical_accuracy: 0.9907 - val_loss: 0.1373 - val_categorical_accuracy: 0.9597\n",
            "Epoch 60/100\n",
            "237/237 [==============================] - 2s 9ms/step - loss: 0.0237 - categorical_accuracy: 0.9931 - val_loss: 0.1630 - val_categorical_accuracy: 0.9585\n",
            "Epoch 61/100\n",
            "237/237 [==============================] - 2s 9ms/step - loss: 0.0271 - categorical_accuracy: 0.9929 - val_loss: 0.1171 - val_categorical_accuracy: 0.9644\n",
            "Epoch 62/100\n",
            "237/237 [==============================] - 2s 9ms/step - loss: 0.0386 - categorical_accuracy: 0.9871 - val_loss: 0.1777 - val_categorical_accuracy: 0.9502\n",
            "Epoch 63/100\n",
            "237/237 [==============================] - 2s 8ms/step - loss: 0.0424 - categorical_accuracy: 0.9846 - val_loss: 0.1819 - val_categorical_accuracy: 0.9431\n",
            "Epoch 64/100\n",
            "237/237 [==============================] - 2s 9ms/step - loss: 0.0369 - categorical_accuracy: 0.9866 - val_loss: 0.1514 - val_categorical_accuracy: 0.9597\n",
            "Epoch 65/100\n",
            "237/237 [==============================] - 2s 9ms/step - loss: 0.0343 - categorical_accuracy: 0.9889 - val_loss: 0.1244 - val_categorical_accuracy: 0.9644\n",
            "Epoch 66/100\n",
            "237/237 [==============================] - 2s 9ms/step - loss: 0.0223 - categorical_accuracy: 0.9939 - val_loss: 0.1389 - val_categorical_accuracy: 0.9644\n",
            "Epoch 67/100\n",
            "237/237 [==============================] - 2s 9ms/step - loss: 0.0269 - categorical_accuracy: 0.9900 - val_loss: 0.1318 - val_categorical_accuracy: 0.9609\n",
            "Epoch 68/100\n",
            "237/237 [==============================] - 2s 9ms/step - loss: 0.0220 - categorical_accuracy: 0.9928 - val_loss: 0.1717 - val_categorical_accuracy: 0.9466\n",
            "Epoch 69/100\n",
            "237/237 [==============================] - 2s 8ms/step - loss: 0.0257 - categorical_accuracy: 0.9931 - val_loss: 0.1818 - val_categorical_accuracy: 0.9502\n",
            "Epoch 70/100\n",
            "237/237 [==============================] - 2s 9ms/step - loss: 0.0258 - categorical_accuracy: 0.9921 - val_loss: 0.1503 - val_categorical_accuracy: 0.9549\n",
            "Epoch 71/100\n",
            "237/237 [==============================] - 2s 10ms/step - loss: 0.0303 - categorical_accuracy: 0.9896 - val_loss: 0.1915 - val_categorical_accuracy: 0.9466\n",
            "Epoch 72/100\n",
            "237/237 [==============================] - 2s 8ms/step - loss: 0.0407 - categorical_accuracy: 0.9848 - val_loss: 0.1293 - val_categorical_accuracy: 0.9644\n",
            "Epoch 73/100\n",
            "237/237 [==============================] - 2s 9ms/step - loss: 0.0437 - categorical_accuracy: 0.9841 - val_loss: 0.1209 - val_categorical_accuracy: 0.9632\n",
            "Epoch 74/100\n",
            "237/237 [==============================] - 2s 9ms/step - loss: 0.0277 - categorical_accuracy: 0.9921 - val_loss: 0.1249 - val_categorical_accuracy: 0.9644\n",
            "Epoch 75/100\n",
            "237/237 [==============================] - 2s 9ms/step - loss: 0.0224 - categorical_accuracy: 0.9916 - val_loss: 0.1064 - val_categorical_accuracy: 0.9692\n",
            "Epoch 76/100\n",
            "237/237 [==============================] - 2s 9ms/step - loss: 0.0236 - categorical_accuracy: 0.9921 - val_loss: 0.1179 - val_categorical_accuracy: 0.9668\n",
            "Epoch 77/100\n",
            "237/237 [==============================] - 2s 9ms/step - loss: 0.0240 - categorical_accuracy: 0.9903 - val_loss: 0.1463 - val_categorical_accuracy: 0.9585\n",
            "Epoch 78/100\n",
            "237/237 [==============================] - 2s 9ms/step - loss: 0.0275 - categorical_accuracy: 0.9904 - val_loss: 0.1417 - val_categorical_accuracy: 0.9526\n",
            "Epoch 79/100\n",
            "237/237 [==============================] - 2s 9ms/step - loss: 0.0355 - categorical_accuracy: 0.9862 - val_loss: 0.1361 - val_categorical_accuracy: 0.9680\n",
            "Epoch 80/100\n",
            "237/237 [==============================] - 2s 9ms/step - loss: 0.0220 - categorical_accuracy: 0.9924 - val_loss: 0.1325 - val_categorical_accuracy: 0.9632\n",
            "Epoch 81/100\n",
            "237/237 [==============================] - 2s 9ms/step - loss: 0.0202 - categorical_accuracy: 0.9924 - val_loss: 0.1714 - val_categorical_accuracy: 0.9573\n",
            "Epoch 82/100\n",
            "237/237 [==============================] - 2s 9ms/step - loss: 0.0280 - categorical_accuracy: 0.9910 - val_loss: 0.1725 - val_categorical_accuracy: 0.9407\n",
            "Epoch 83/100\n",
            "237/237 [==============================] - 2s 9ms/step - loss: 0.0405 - categorical_accuracy: 0.9857 - val_loss: 0.1474 - val_categorical_accuracy: 0.9573\n",
            "Epoch 84/100\n",
            "237/237 [==============================] - 2s 10ms/step - loss: 0.0259 - categorical_accuracy: 0.9929 - val_loss: 0.1401 - val_categorical_accuracy: 0.9585\n",
            "Epoch 85/100\n",
            "237/237 [==============================] - 2s 9ms/step - loss: 0.0241 - categorical_accuracy: 0.9917 - val_loss: 0.2156 - val_categorical_accuracy: 0.9537\n",
            "Epoch 86/100\n",
            "237/237 [==============================] - 2s 9ms/step - loss: 0.0354 - categorical_accuracy: 0.9890 - val_loss: 0.1574 - val_categorical_accuracy: 0.9609\n",
            "Epoch 87/100\n",
            "237/237 [==============================] - 2s 9ms/step - loss: 0.0270 - categorical_accuracy: 0.9914 - val_loss: 0.1273 - val_categorical_accuracy: 0.9668\n",
            "Epoch 88/100\n",
            "237/237 [==============================] - 2s 9ms/step - loss: 0.0334 - categorical_accuracy: 0.9910 - val_loss: 0.1355 - val_categorical_accuracy: 0.9585\n",
            "Epoch 89/100\n",
            "237/237 [==============================] - 2s 9ms/step - loss: 0.0224 - categorical_accuracy: 0.9930 - val_loss: 0.1796 - val_categorical_accuracy: 0.9466\n",
            "Epoch 90/100\n",
            "237/237 [==============================] - 2s 9ms/step - loss: 0.0418 - categorical_accuracy: 0.9855 - val_loss: 0.1430 - val_categorical_accuracy: 0.9609\n",
            "Epoch 91/100\n",
            "237/237 [==============================] - 2s 9ms/step - loss: 0.0158 - categorical_accuracy: 0.9952 - val_loss: 0.1369 - val_categorical_accuracy: 0.9573\n",
            "Epoch 92/100\n",
            "237/237 [==============================] - 2s 9ms/step - loss: 0.0175 - categorical_accuracy: 0.9940 - val_loss: 0.1594 - val_categorical_accuracy: 0.9573\n",
            "Epoch 93/100\n",
            "237/237 [==============================] - 2s 9ms/step - loss: 0.0466 - categorical_accuracy: 0.9833 - val_loss: 0.1639 - val_categorical_accuracy: 0.9597\n",
            "Epoch 94/100\n",
            "237/237 [==============================] - 2s 9ms/step - loss: 0.0325 - categorical_accuracy: 0.9896 - val_loss: 0.1077 - val_categorical_accuracy: 0.9668\n",
            "Epoch 95/100\n",
            "237/237 [==============================] - 2s 9ms/step - loss: 0.0259 - categorical_accuracy: 0.9933 - val_loss: 0.1308 - val_categorical_accuracy: 0.9585\n",
            "Epoch 96/100\n",
            "237/237 [==============================] - 2s 9ms/step - loss: 0.0263 - categorical_accuracy: 0.9894 - val_loss: 0.1385 - val_categorical_accuracy: 0.9656\n",
            "Epoch 97/100\n",
            "237/237 [==============================] - 2s 9ms/step - loss: 0.0181 - categorical_accuracy: 0.9940 - val_loss: 0.1856 - val_categorical_accuracy: 0.9549\n",
            "Epoch 98/100\n",
            "237/237 [==============================] - 2s 9ms/step - loss: 0.0302 - categorical_accuracy: 0.9887 - val_loss: 0.1515 - val_categorical_accuracy: 0.9644\n",
            "Epoch 99/100\n",
            "237/237 [==============================] - 2s 9ms/step - loss: 0.0262 - categorical_accuracy: 0.9898 - val_loss: 0.1733 - val_categorical_accuracy: 0.9549\n",
            "Epoch 100/100\n",
            "237/237 [==============================] - 2s 8ms/step - loss: 0.0199 - categorical_accuracy: 0.9929 - val_loss: 0.3046 - val_categorical_accuracy: 0.9265\n"
          ],
          "name": "stdout"
        }
      ]
    },
    {
      "cell_type": "code",
      "metadata": {
        "id": "_BIw7YMHNBvf",
        "colab": {
          "base_uri": "https://localhost:8080/"
        },
        "outputId": "07560a8c-d03b-479d-8fe2-be425b19e441"
      },
      "source": [
        "y_pred = model.predict(X_test_final)\n",
        "\n",
        "acc = np.mean(np.argmax(y_test, axis=1) == np.argmax(y_pred, axis=1))\n",
        "\n",
        "print('The test accuracy is ', acc)\n"
      ],
      "execution_count": 19,
      "outputs": [
        {
          "output_type": "stream",
          "text": [
            "The test accuracy is  0.9420702754036088\n"
          ],
          "name": "stdout"
        }
      ]
    },
    {
      "cell_type": "code",
      "metadata": {
        "colab": {
          "base_uri": "https://localhost:8080/",
          "height": 279
        },
        "id": "a96BusMxWY5o",
        "outputId": "6048b22f-df0f-4c31-9b36-b47cd7a6c10b"
      },
      "source": [
        "plt.figure(figsize=(8,4),dpi=100)\n",
        "\n",
        "plt.subplot(2, 1, 1)\n",
        "plt.plot(trace.history['loss'], '-o')\n",
        "plt.plot(trace.history['val_loss'], '-o')\n",
        "plt.legend(['train', 'val'], loc='upper left')\n",
        "plt.xlabel('iteration')\n",
        "plt.ylabel('loss')\n",
        "\n",
        "plt.subplot(2, 1, 2)\n",
        "plt.plot(trace.history['categorical_accuracy'], '-o')\n",
        "plt.plot(trace.history['val_categorical_accuracy'], '-o')\n",
        "plt.legend(['train', 'val'], loc='upper left')\n",
        "plt.xlabel('epoch')\n",
        "plt.ylabel('accuracy')\n",
        "plt.show()"
      ],
      "execution_count": 20,
      "outputs": [
        {
          "output_type": "display_data",
          "data": {
            "image/png": "[encoded data removed]",
            "text/plain": [
              "<Figure size 432x288 with 2 Axes>"
            ]
          },
          "metadata": {
            "tags": [],
            "needs_background": "light"
          }
        }
      ]
    },
    {
      "cell_type": "code",
      "metadata": {
        "id": "lXAO_u4gk8t6"
      },
      "source": [
        ""
      ],
      "execution_count": 20,
      "outputs": []
    },
    {
      "cell_type": "code",
      "metadata": {
        "colab": {
          "base_uri": "https://localhost:8080/"
        },
        "id": "kByLchEDZ433",
        "outputId": "f4d63567-a813-4deb-a879-ef63e25d6d02"
      },
      "source": [
        "def get_comparison_model(input_len, stride, dim = 1):\n",
        "  \"\"\"input_len: num of times steps\n",
        "     dim: no of channels\n",
        "  \"\"\"\n",
        "  inputs = Input(shape =(input_len, dim), name = 'input')\n",
        "  #add layers/ change filters, kernel_size\n",
        "  x = Conv1D(filters = 64, kernel_size = 3, activation ='relu',padding='same',strides=stride)(inputs)\n",
        "  x = Conv1D(filters=32, kernel_size=3, activation='relu',padding='same',strides=stride)(x)\n",
        "  x = Dropout(0.2)(x)\n",
        "  x = MaxPooling1D(pool_size=5)(x)\n",
        "  outputs = Flatten()(x)\n",
        "  outputs = Dense(128)(outputs)\n",
        "  outputs = Dense(3, activation='softmax')(outputs)\n",
        "  base_model = Model(inputs, outputs = outputs)\n",
        "  return base_model\n",
        "\n",
        "comparison_model = get_comparison_model(1000, 4, dim = 1)\n",
        "comparison_model.compile(\n",
        "    optimizer=tf.keras.optimizers.Adam(lr=0.001),\n",
        "    loss=tf.keras.losses.CategoricalCrossentropy(),\n",
        "    metrics=[tf.keras.metrics.CategoricalAccuracy()],\n",
        ")\n",
        "\n",
        "comparison_trace = comparison_model.fit(x=X_train, y=y_train, batch_size=32, epochs=100, verbose=1, \n",
        "                  validation_split=0.1, shuffle=True)\n",
        "\n"
      ],
      "execution_count": 21,
      "outputs": [
        {
          "output_type": "stream",
          "text": [
            "Epoch 1/100\n",
            "237/237 [==============================] - 1s 4ms/step - loss: 0.7493 - categorical_accuracy: 0.6619 - val_loss: 0.5559 - val_categorical_accuracy: 0.7865\n",
            "Epoch 2/100\n",
            "237/237 [==============================] - 1s 3ms/step - loss: 0.4588 - categorical_accuracy: 0.8166 - val_loss: 0.4928 - val_categorical_accuracy: 0.8161\n",
            "Epoch 3/100\n",
            "237/237 [==============================] - 1s 4ms/step - loss: 0.3934 - categorical_accuracy: 0.8473 - val_loss: 0.3960 - val_categorical_accuracy: 0.8565\n",
            "Epoch 4/100\n",
            "237/237 [==============================] - 1s 3ms/step - loss: 0.3544 - categorical_accuracy: 0.8649 - val_loss: 0.3683 - val_categorical_accuracy: 0.8695\n",
            "Epoch 5/100\n",
            "237/237 [==============================] - 1s 4ms/step - loss: 0.3502 - categorical_accuracy: 0.8566 - val_loss: 0.3582 - val_categorical_accuracy: 0.8731\n",
            "Epoch 6/100\n",
            "237/237 [==============================] - 1s 3ms/step - loss: 0.3165 - categorical_accuracy: 0.8760 - val_loss: 0.3276 - val_categorical_accuracy: 0.8707\n",
            "Epoch 7/100\n",
            "237/237 [==============================] - 1s 3ms/step - loss: 0.3146 - categorical_accuracy: 0.8667 - val_loss: 0.3168 - val_categorical_accuracy: 0.8826\n",
            "Epoch 8/100\n",
            "237/237 [==============================] - 1s 4ms/step - loss: 0.2801 - categorical_accuracy: 0.8943 - val_loss: 0.2932 - val_categorical_accuracy: 0.8932\n",
            "Epoch 9/100\n",
            "237/237 [==============================] - 1s 3ms/step - loss: 0.2388 - categorical_accuracy: 0.9066 - val_loss: 0.2957 - val_categorical_accuracy: 0.8790\n",
            "Epoch 10/100\n",
            "237/237 [==============================] - 1s 3ms/step - loss: 0.2608 - categorical_accuracy: 0.8999 - val_loss: 0.2734 - val_categorical_accuracy: 0.8980\n",
            "Epoch 11/100\n",
            "237/237 [==============================] - 1s 3ms/step - loss: 0.2349 - categorical_accuracy: 0.9052 - val_loss: 0.2527 - val_categorical_accuracy: 0.9027\n",
            "Epoch 12/100\n",
            "237/237 [==============================] - 1s 3ms/step - loss: 0.2183 - categorical_accuracy: 0.9106 - val_loss: 0.3046 - val_categorical_accuracy: 0.8636\n",
            "Epoch 13/100\n",
            "237/237 [==============================] - 1s 4ms/step - loss: 0.2253 - categorical_accuracy: 0.9128 - val_loss: 0.2496 - val_categorical_accuracy: 0.8992\n",
            "Epoch 14/100\n",
            "237/237 [==============================] - 1s 4ms/step - loss: 0.2011 - categorical_accuracy: 0.9201 - val_loss: 0.2517 - val_categorical_accuracy: 0.8968\n",
            "Epoch 15/100\n",
            "237/237 [==============================] - 1s 4ms/step - loss: 0.1962 - categorical_accuracy: 0.9272 - val_loss: 0.3590 - val_categorical_accuracy: 0.8743\n",
            "Epoch 16/100\n",
            "237/237 [==============================] - 1s 3ms/step - loss: 0.1959 - categorical_accuracy: 0.9238 - val_loss: 0.2318 - val_categorical_accuracy: 0.9087\n",
            "Epoch 17/100\n",
            "237/237 [==============================] - 1s 3ms/step - loss: 0.1871 - categorical_accuracy: 0.9272 - val_loss: 0.2555 - val_categorical_accuracy: 0.9134\n",
            "Epoch 18/100\n",
            "237/237 [==============================] - 1s 3ms/step - loss: 0.1937 - categorical_accuracy: 0.9230 - val_loss: 0.2428 - val_categorical_accuracy: 0.9110\n",
            "Epoch 19/100\n",
            "237/237 [==============================] - 1s 3ms/step - loss: 0.1759 - categorical_accuracy: 0.9352 - val_loss: 0.2284 - val_categorical_accuracy: 0.9205\n",
            "Epoch 20/100\n",
            "237/237 [==============================] - 1s 3ms/step - loss: 0.1774 - categorical_accuracy: 0.9332 - val_loss: 0.2639 - val_categorical_accuracy: 0.9087\n",
            "Epoch 21/100\n",
            "237/237 [==============================] - 1s 4ms/step - loss: 0.1629 - categorical_accuracy: 0.9384 - val_loss: 0.2551 - val_categorical_accuracy: 0.9075\n",
            "Epoch 22/100\n",
            "237/237 [==============================] - 1s 4ms/step - loss: 0.1634 - categorical_accuracy: 0.9371 - val_loss: 0.2728 - val_categorical_accuracy: 0.9015\n",
            "Epoch 23/100\n",
            "237/237 [==============================] - 1s 4ms/step - loss: 0.1588 - categorical_accuracy: 0.9392 - val_loss: 0.2315 - val_categorical_accuracy: 0.9170\n",
            "Epoch 24/100\n",
            "237/237 [==============================] - 1s 3ms/step - loss: 0.1825 - categorical_accuracy: 0.9283 - val_loss: 0.2265 - val_categorical_accuracy: 0.9288\n",
            "Epoch 25/100\n",
            "237/237 [==============================] - 1s 3ms/step - loss: 0.1563 - categorical_accuracy: 0.9347 - val_loss: 0.2273 - val_categorical_accuracy: 0.9087\n",
            "Epoch 26/100\n",
            "237/237 [==============================] - 1s 4ms/step - loss: 0.1508 - categorical_accuracy: 0.9479 - val_loss: 0.2052 - val_categorical_accuracy: 0.9288\n",
            "Epoch 27/100\n",
            "237/237 [==============================] - 1s 3ms/step - loss: 0.1374 - categorical_accuracy: 0.9468 - val_loss: 0.2037 - val_categorical_accuracy: 0.9229\n",
            "Epoch 28/100\n",
            "237/237 [==============================] - 1s 3ms/step - loss: 0.1380 - categorical_accuracy: 0.9475 - val_loss: 0.2040 - val_categorical_accuracy: 0.9229\n",
            "Epoch 29/100\n",
            "237/237 [==============================] - 1s 3ms/step - loss: 0.1405 - categorical_accuracy: 0.9480 - val_loss: 0.1953 - val_categorical_accuracy: 0.9300\n",
            "Epoch 30/100\n",
            "237/237 [==============================] - 1s 3ms/step - loss: 0.1279 - categorical_accuracy: 0.9535 - val_loss: 0.2263 - val_categorical_accuracy: 0.9122\n",
            "Epoch 31/100\n",
            "237/237 [==============================] - 1s 3ms/step - loss: 0.1338 - categorical_accuracy: 0.9506 - val_loss: 0.1957 - val_categorical_accuracy: 0.9253\n",
            "Epoch 32/100\n",
            "237/237 [==============================] - 1s 4ms/step - loss: 0.1240 - categorical_accuracy: 0.9491 - val_loss: 0.1731 - val_categorical_accuracy: 0.9478\n",
            "Epoch 33/100\n",
            "237/237 [==============================] - 1s 4ms/step - loss: 0.1271 - categorical_accuracy: 0.9489 - val_loss: 0.3006 - val_categorical_accuracy: 0.8873\n",
            "Epoch 34/100\n",
            "237/237 [==============================] - 1s 4ms/step - loss: 0.1323 - categorical_accuracy: 0.9533 - val_loss: 0.1698 - val_categorical_accuracy: 0.9407\n",
            "Epoch 35/100\n",
            "237/237 [==============================] - 1s 3ms/step - loss: 0.1194 - categorical_accuracy: 0.9514 - val_loss: 0.2141 - val_categorical_accuracy: 0.9276\n",
            "Epoch 36/100\n",
            "237/237 [==============================] - 1s 3ms/step - loss: 0.1163 - categorical_accuracy: 0.9552 - val_loss: 0.1584 - val_categorical_accuracy: 0.9383\n",
            "Epoch 37/100\n",
            "237/237 [==============================] - 1s 4ms/step - loss: 0.1130 - categorical_accuracy: 0.9555 - val_loss: 0.2011 - val_categorical_accuracy: 0.9265\n",
            "Epoch 38/100\n",
            "237/237 [==============================] - 1s 4ms/step - loss: 0.1067 - categorical_accuracy: 0.9602 - val_loss: 0.1835 - val_categorical_accuracy: 0.9407\n",
            "Epoch 39/100\n",
            "237/237 [==============================] - 1s 3ms/step - loss: 0.1159 - categorical_accuracy: 0.9571 - val_loss: 0.1667 - val_categorical_accuracy: 0.9395\n",
            "Epoch 40/100\n",
            "237/237 [==============================] - 1s 3ms/step - loss: 0.1079 - categorical_accuracy: 0.9574 - val_loss: 0.1512 - val_categorical_accuracy: 0.9431\n",
            "Epoch 41/100\n",
            "237/237 [==============================] - 1s 3ms/step - loss: 0.1057 - categorical_accuracy: 0.9599 - val_loss: 0.1746 - val_categorical_accuracy: 0.9276\n",
            "Epoch 42/100\n",
            "237/237 [==============================] - 1s 3ms/step - loss: 0.1161 - categorical_accuracy: 0.9597 - val_loss: 0.1596 - val_categorical_accuracy: 0.9502\n",
            "Epoch 43/100\n",
            "237/237 [==============================] - 1s 3ms/step - loss: 0.0959 - categorical_accuracy: 0.9676 - val_loss: 0.1491 - val_categorical_accuracy: 0.9466\n",
            "Epoch 44/100\n",
            "237/237 [==============================] - 1s 3ms/step - loss: 0.0943 - categorical_accuracy: 0.9647 - val_loss: 0.1949 - val_categorical_accuracy: 0.9253\n",
            "Epoch 45/100\n",
            "237/237 [==============================] - 1s 3ms/step - loss: 0.0854 - categorical_accuracy: 0.9702 - val_loss: 0.1504 - val_categorical_accuracy: 0.9526\n",
            "Epoch 46/100\n",
            "237/237 [==============================] - 1s 3ms/step - loss: 0.0882 - categorical_accuracy: 0.9657 - val_loss: 0.1458 - val_categorical_accuracy: 0.9514\n",
            "Epoch 47/100\n",
            "237/237 [==============================] - 1s 3ms/step - loss: 0.1030 - categorical_accuracy: 0.9575 - val_loss: 0.1775 - val_categorical_accuracy: 0.9407\n",
            "Epoch 48/100\n",
            "237/237 [==============================] - 1s 3ms/step - loss: 0.1183 - categorical_accuracy: 0.9531 - val_loss: 0.1360 - val_categorical_accuracy: 0.9597\n",
            "Epoch 49/100\n",
            "237/237 [==============================] - 1s 3ms/step - loss: 0.0778 - categorical_accuracy: 0.9724 - val_loss: 0.1771 - val_categorical_accuracy: 0.9324\n",
            "Epoch 50/100\n",
            "237/237 [==============================] - 1s 3ms/step - loss: 0.0866 - categorical_accuracy: 0.9676 - val_loss: 0.1913 - val_categorical_accuracy: 0.9478\n",
            "Epoch 51/100\n",
            "237/237 [==============================] - 1s 4ms/step - loss: 0.0920 - categorical_accuracy: 0.9632 - val_loss: 0.1464 - val_categorical_accuracy: 0.9490\n",
            "Epoch 52/100\n",
            "237/237 [==============================] - 1s 4ms/step - loss: 0.0878 - categorical_accuracy: 0.9686 - val_loss: 0.1897 - val_categorical_accuracy: 0.9348\n",
            "Epoch 53/100\n",
            "237/237 [==============================] - 1s 4ms/step - loss: 0.0859 - categorical_accuracy: 0.9683 - val_loss: 0.1782 - val_categorical_accuracy: 0.9431\n",
            "Epoch 54/100\n",
            "237/237 [==============================] - 1s 4ms/step - loss: 0.0719 - categorical_accuracy: 0.9743 - val_loss: 0.1543 - val_categorical_accuracy: 0.9466\n",
            "Epoch 55/100\n",
            "237/237 [==============================] - 1s 4ms/step - loss: 0.0894 - categorical_accuracy: 0.9668 - val_loss: 0.1692 - val_categorical_accuracy: 0.9442\n",
            "Epoch 56/100\n",
            "237/237 [==============================] - 1s 4ms/step - loss: 0.0737 - categorical_accuracy: 0.9724 - val_loss: 0.1701 - val_categorical_accuracy: 0.9431\n",
            "Epoch 57/100\n",
            "237/237 [==============================] - 1s 4ms/step - loss: 0.0800 - categorical_accuracy: 0.9700 - val_loss: 0.1477 - val_categorical_accuracy: 0.9490\n",
            "Epoch 58/100\n",
            "237/237 [==============================] - 1s 4ms/step - loss: 0.0836 - categorical_accuracy: 0.9697 - val_loss: 0.1440 - val_categorical_accuracy: 0.9561\n",
            "Epoch 59/100\n",
            "237/237 [==============================] - 1s 4ms/step - loss: 0.0875 - categorical_accuracy: 0.9664 - val_loss: 0.1543 - val_categorical_accuracy: 0.9478\n",
            "Epoch 60/100\n",
            "237/237 [==============================] - 1s 4ms/step - loss: 0.0686 - categorical_accuracy: 0.9750 - val_loss: 0.1343 - val_categorical_accuracy: 0.9537\n",
            "Epoch 61/100\n",
            "237/237 [==============================] - 1s 4ms/step - loss: 0.0709 - categorical_accuracy: 0.9695 - val_loss: 0.1429 - val_categorical_accuracy: 0.9514\n",
            "Epoch 62/100\n",
            "237/237 [==============================] - 1s 4ms/step - loss: 0.0782 - categorical_accuracy: 0.9716 - val_loss: 0.1957 - val_categorical_accuracy: 0.9371\n",
            "Epoch 63/100\n",
            "237/237 [==============================] - 1s 4ms/step - loss: 0.0751 - categorical_accuracy: 0.9706 - val_loss: 0.1639 - val_categorical_accuracy: 0.9466\n",
            "Epoch 64/100\n",
            "237/237 [==============================] - 1s 4ms/step - loss: 0.0792 - categorical_accuracy: 0.9711 - val_loss: 0.1663 - val_categorical_accuracy: 0.9407\n",
            "Epoch 65/100\n",
            "237/237 [==============================] - 1s 4ms/step - loss: 0.0622 - categorical_accuracy: 0.9777 - val_loss: 0.1640 - val_categorical_accuracy: 0.9490\n",
            "Epoch 66/100\n",
            "237/237 [==============================] - 1s 4ms/step - loss: 0.0658 - categorical_accuracy: 0.9769 - val_loss: 0.1396 - val_categorical_accuracy: 0.9537\n",
            "Epoch 67/100\n",
            "237/237 [==============================] - 1s 4ms/step - loss: 0.0779 - categorical_accuracy: 0.9695 - val_loss: 0.1261 - val_categorical_accuracy: 0.9549\n",
            "Epoch 68/100\n",
            "237/237 [==============================] - 1s 3ms/step - loss: 0.0603 - categorical_accuracy: 0.9783 - val_loss: 0.1517 - val_categorical_accuracy: 0.9490\n",
            "Epoch 69/100\n",
            "237/237 [==============================] - 1s 4ms/step - loss: 0.0646 - categorical_accuracy: 0.9743 - val_loss: 0.1261 - val_categorical_accuracy: 0.9537\n",
            "Epoch 70/100\n",
            "237/237 [==============================] - 1s 3ms/step - loss: 0.0747 - categorical_accuracy: 0.9698 - val_loss: 0.1334 - val_categorical_accuracy: 0.9537\n",
            "Epoch 71/100\n",
            "237/237 [==============================] - 1s 4ms/step - loss: 0.0716 - categorical_accuracy: 0.9733 - val_loss: 0.1068 - val_categorical_accuracy: 0.9656\n",
            "Epoch 72/100\n",
            "237/237 [==============================] - 1s 3ms/step - loss: 0.0543 - categorical_accuracy: 0.9773 - val_loss: 0.1256 - val_categorical_accuracy: 0.9561\n",
            "Epoch 73/100\n",
            "237/237 [==============================] - 1s 3ms/step - loss: 0.0531 - categorical_accuracy: 0.9826 - val_loss: 0.2288 - val_categorical_accuracy: 0.9324\n",
            "Epoch 74/100\n",
            "237/237 [==============================] - 1s 4ms/step - loss: 0.0762 - categorical_accuracy: 0.9690 - val_loss: 0.1300 - val_categorical_accuracy: 0.9597\n",
            "Epoch 75/100\n",
            "237/237 [==============================] - 1s 4ms/step - loss: 0.0612 - categorical_accuracy: 0.9777 - val_loss: 0.1279 - val_categorical_accuracy: 0.9597\n",
            "Epoch 76/100\n",
            "237/237 [==============================] - 1s 4ms/step - loss: 0.0573 - categorical_accuracy: 0.9782 - val_loss: 0.1292 - val_categorical_accuracy: 0.9620\n",
            "Epoch 77/100\n",
            "237/237 [==============================] - 1s 3ms/step - loss: 0.0548 - categorical_accuracy: 0.9774 - val_loss: 0.1676 - val_categorical_accuracy: 0.9514\n",
            "Epoch 78/100\n",
            "237/237 [==============================] - 1s 4ms/step - loss: 0.0501 - categorical_accuracy: 0.9834 - val_loss: 0.1301 - val_categorical_accuracy: 0.9573\n",
            "Epoch 79/100\n",
            "237/237 [==============================] - 1s 3ms/step - loss: 0.0451 - categorical_accuracy: 0.9830 - val_loss: 0.1351 - val_categorical_accuracy: 0.9573\n",
            "Epoch 80/100\n",
            "237/237 [==============================] - 1s 3ms/step - loss: 0.0639 - categorical_accuracy: 0.9733 - val_loss: 0.1043 - val_categorical_accuracy: 0.9644\n",
            "Epoch 81/100\n",
            "237/237 [==============================] - 1s 3ms/step - loss: 0.0615 - categorical_accuracy: 0.9814 - val_loss: 0.1343 - val_categorical_accuracy: 0.9585\n",
            "Epoch 82/100\n",
            "237/237 [==============================] - 1s 4ms/step - loss: 0.0711 - categorical_accuracy: 0.9737 - val_loss: 0.0975 - val_categorical_accuracy: 0.9656\n",
            "Epoch 83/100\n",
            "237/237 [==============================] - 1s 4ms/step - loss: 0.0597 - categorical_accuracy: 0.9790 - val_loss: 0.1179 - val_categorical_accuracy: 0.9620\n",
            "Epoch 84/100\n",
            "237/237 [==============================] - 1s 3ms/step - loss: 0.0499 - categorical_accuracy: 0.9806 - val_loss: 0.1106 - val_categorical_accuracy: 0.9632\n",
            "Epoch 85/100\n",
            "237/237 [==============================] - 1s 3ms/step - loss: 0.0445 - categorical_accuracy: 0.9843 - val_loss: 0.1498 - val_categorical_accuracy: 0.9597\n",
            "Epoch 86/100\n",
            "237/237 [==============================] - 1s 4ms/step - loss: 0.0445 - categorical_accuracy: 0.9833 - val_loss: 0.1633 - val_categorical_accuracy: 0.9549\n",
            "Epoch 87/100\n",
            "237/237 [==============================] - 1s 3ms/step - loss: 0.0578 - categorical_accuracy: 0.9788 - val_loss: 0.1796 - val_categorical_accuracy: 0.9466\n",
            "Epoch 88/100\n",
            "237/237 [==============================] - 1s 4ms/step - loss: 0.0512 - categorical_accuracy: 0.9817 - val_loss: 0.1120 - val_categorical_accuracy: 0.9620\n",
            "Epoch 89/100\n",
            "237/237 [==============================] - 1s 4ms/step - loss: 0.0553 - categorical_accuracy: 0.9800 - val_loss: 0.1431 - val_categorical_accuracy: 0.9585\n",
            "Epoch 90/100\n",
            "237/237 [==============================] - 1s 3ms/step - loss: 0.0482 - categorical_accuracy: 0.9799 - val_loss: 0.1339 - val_categorical_accuracy: 0.9609\n",
            "Epoch 91/100\n",
            "237/237 [==============================] - 1s 4ms/step - loss: 0.0447 - categorical_accuracy: 0.9834 - val_loss: 0.0997 - val_categorical_accuracy: 0.9656\n",
            "Epoch 92/100\n",
            "237/237 [==============================] - 1s 3ms/step - loss: 0.0519 - categorical_accuracy: 0.9792 - val_loss: 0.1535 - val_categorical_accuracy: 0.9478\n",
            "Epoch 93/100\n",
            "237/237 [==============================] - 1s 3ms/step - loss: 0.0474 - categorical_accuracy: 0.9834 - val_loss: 0.1477 - val_categorical_accuracy: 0.9668\n",
            "Epoch 94/100\n",
            "237/237 [==============================] - 1s 3ms/step - loss: 0.0462 - categorical_accuracy: 0.9815 - val_loss: 0.1226 - val_categorical_accuracy: 0.9620\n",
            "Epoch 95/100\n",
            "237/237 [==============================] - 1s 3ms/step - loss: 0.0554 - categorical_accuracy: 0.9791 - val_loss: 0.1405 - val_categorical_accuracy: 0.9514\n",
            "Epoch 96/100\n",
            "237/237 [==============================] - 1s 4ms/step - loss: 0.0471 - categorical_accuracy: 0.9832 - val_loss: 0.1295 - val_categorical_accuracy: 0.9561\n",
            "Epoch 97/100\n",
            "237/237 [==============================] - 1s 3ms/step - loss: 0.0464 - categorical_accuracy: 0.9839 - val_loss: 0.1352 - val_categorical_accuracy: 0.9656\n",
            "Epoch 98/100\n",
            "237/237 [==============================] - 1s 3ms/step - loss: 0.0474 - categorical_accuracy: 0.9815 - val_loss: 0.1819 - val_categorical_accuracy: 0.9549\n",
            "Epoch 99/100\n",
            "237/237 [==============================] - 1s 3ms/step - loss: 0.0466 - categorical_accuracy: 0.9819 - val_loss: 0.1343 - val_categorical_accuracy: 0.9656\n",
            "Epoch 100/100\n",
            "237/237 [==============================] - 1s 4ms/step - loss: 0.0363 - categorical_accuracy: 0.9868 - val_loss: 0.1722 - val_categorical_accuracy: 0.9490\n"
          ],
          "name": "stdout"
        }
      ]
    },
    {
      "cell_type": "code",
      "metadata": {
        "colab": {
          "base_uri": "https://localhost:8080/"
        },
        "id": "K1KDnyFUk-qv",
        "outputId": "ffd4299d-4d1d-4243-a19e-7d1806b1327d"
      },
      "source": [
        "y_pred_comparison = comparison_model.predict(X_test)\n",
        "\n",
        "acc_comparison = np.mean(np.argmax(y_test, axis=1) == np.argmax(y_pred_comparison, axis=1))\n",
        "\n",
        "print('The test accuracy is ', acc_comparison)\n"
      ],
      "execution_count": 22,
      "outputs": [
        {
          "output_type": "stream",
          "text": [
            "The test accuracy is  0.9582146248812915\n"
          ],
          "name": "stdout"
        }
      ]
    },
    {
      "cell_type": "code",
      "metadata": {
        "colab": {
          "base_uri": "https://localhost:8080/",
          "height": 382
        },
        "id": "H7ccP9iwna3z",
        "outputId": "2d801282-7fe9-44a0-9080-f3c8c84ad47f"
      },
      "source": [
        "import matplotlib.pyplot as plt\n",
        "\n",
        "plt.figure(figsize=(8,4),dpi=100)\n",
        "\n",
        "\n",
        "plt.subplot(2, 1, 1)\n",
        "plt.plot(comparison_trace.history['loss'], '-o')\n",
        "plt.plot(comparison_trace.history['val_loss'], '-o')\n",
        "plt.legend(['train', 'val'], loc='upper left')\n",
        "plt.xlabel('iteration')\n",
        "plt.ylabel('loss')\n",
        "\n",
        "plt.subplot(2, 1, 2)\n",
        "plt.plot(comparison_trace.history['categorical_accuracy'], '-o')\n",
        "plt.plot(comparison_trace.history['val_categorical_accuracy'], '-o')\n",
        "plt.legend(['train', 'val'], loc='upper left')\n",
        "plt.xlabel('epoch')\n",
        "plt.ylabel('accuracy')\n",
        "plt.show()"
      ],
      "execution_count": 25,
      "outputs": [
        {
          "output_type": "display_data",
          "data": {
            "image/png": "[encoded data removed]",
            "text/plain": [
              "<Figure size 800x400 with 2 Axes>"
            ]
          },
          "metadata": {
            "tags": [],
            "needs_background": "light"
          }
        }
      ]
    },
    {
      "cell_type": "code",
      "metadata": {
        "id": "COSwmOlnrdwL"
      },
      "source": [
        ""
      ],
      "execution_count": 23,
      "outputs": []
    }
  ]
}
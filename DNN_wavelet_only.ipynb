{
  "nbformat": 4,
  "nbformat_minor": 0,
  "metadata": {
    "colab": {
      "name": "DNN_wavelet_only_shoaib.ipynb",
      "provenance": [],
      "collapsed_sections": []
    },
    "kernelspec": {
      "name": "python3",
      "display_name": "Python 3"
    },
    "accelerator": "GPU"
  },
  "cells": [
    {
      "cell_type": "code",
      "metadata": {
        "colab": {
          "base_uri": "https://localhost:8080/"
        },
        "id": "nlq6eDJD6cra",
        "outputId": "65bc2436-8318-49c6-e03d-956d8b6ae7d9"
      },
      "source": [
        "from google.colab import drive\r\n",
        "drive.mount('/content/gdrive')\r\n",
        "%cd /content/gdrive/My\\ Drive/EE137/ecg_matlab\r\n",
        "# just upload the data folder to your drive ** i wasn't able to access the shared with me folder"
      ],
      "execution_count": 8,
      "outputs": [
        {
          "output_type": "stream",
          "text": [
            "Drive already mounted at /content/gdrive; to attempt to forcibly remount, call drive.mount(\"/content/gdrive\", force_remount=True).\n",
            "/content/gdrive/.shortcut-targets-by-id/1F6dOmt_qav0uuQ5vNcV-7Nyk2bMhTC9l/EE137/ecg_matlab\n"
          ],
          "name": "stdout"
        }
      ]
    },
    {
      "cell_type": "code",
      "metadata": {
        "colab": {
          "base_uri": "https://localhost:8080/"
        },
        "id": "Rzk6D90z7pLp",
        "outputId": "b085fbb2-c9a2-4538-8e81-85a55e27b363"
      },
      "source": [
        "!pip install scaleogram"
      ],
      "execution_count": 2,
      "outputs": [
        {
          "output_type": "stream",
          "text": [
            "Collecting scaleogram\n",
            "  Downloading https://files.pythonhosted.org/packages/39/51/2aa9cea1494083a63ca85bc06e1419d020ca0e56b319dbc6e6b14c6a707d/scaleogram-0.9.5-py3-none-any.whl\n",
            "Requirement already satisfied: matplotlib>=2.0 in /usr/local/lib/python3.6/dist-packages (from scaleogram) (3.2.2)\n",
            "Requirement already satisfied: numpy>=1.0 in /usr/local/lib/python3.6/dist-packages (from scaleogram) (1.19.4)\n",
            "Requirement already satisfied: PyWavelets>=1.0 in /usr/local/lib/python3.6/dist-packages (from scaleogram) (1.1.1)\n",
            "Requirement already satisfied: python-dateutil>=2.1 in /usr/local/lib/python3.6/dist-packages (from matplotlib>=2.0->scaleogram) (2.8.1)\n",
            "Requirement already satisfied: kiwisolver>=1.0.1 in /usr/local/lib/python3.6/dist-packages (from matplotlib>=2.0->scaleogram) (1.3.1)\n",
            "Requirement already satisfied: cycler>=0.10 in /usr/local/lib/python3.6/dist-packages (from matplotlib>=2.0->scaleogram) (0.10.0)\n",
            "Requirement already satisfied: pyparsing!=2.0.4,!=2.1.2,!=2.1.6,>=2.0.1 in /usr/local/lib/python3.6/dist-packages (from matplotlib>=2.0->scaleogram) (2.4.7)\n",
            "Requirement already satisfied: six>=1.5 in /usr/local/lib/python3.6/dist-packages (from python-dateutil>=2.1->matplotlib>=2.0->scaleogram) (1.15.0)\n",
            "Installing collected packages: scaleogram\n",
            "Successfully installed scaleogram-0.9.5\n"
          ],
          "name": "stdout"
        }
      ]
    },
    {
      "cell_type": "code",
      "metadata": {
        "colab": {
          "base_uri": "https://localhost:8080/"
        },
        "id": "gSQNDz0w9bFr",
        "outputId": "40182d4f-cf09-4d23-9ea5-737120b85ec8"
      },
      "source": [
        "!pip install PyWavelets\r\n"
      ],
      "execution_count": 3,
      "outputs": [
        {
          "output_type": "stream",
          "text": [
            "Requirement already satisfied: PyWavelets in /usr/local/lib/python3.6/dist-packages (1.1.1)\n",
            "Requirement already satisfied: numpy>=1.13.3 in /usr/local/lib/python3.6/dist-packages (from PyWavelets) (1.19.4)\n"
          ],
          "name": "stdout"
        }
      ]
    },
    {
      "cell_type": "code",
      "metadata": {
        "id": "3vJRStnz7XM7"
      },
      "source": [
        "import tensorflow as tf\r\n",
        "import numpy as np\r\n",
        "import pandas as pd\r\n",
        "from scipy.io import loadmat\r\n",
        "import scaleogram as scg \r\n",
        "import pywt\r\n",
        "import tensorflow as tf\r\n",
        "\r\n",
        "from tensorflow import keras\r\n",
        "from tensorflow.keras import layers\r\n",
        "from tensorflow.keras.models import Sequential"
      ],
      "execution_count": 4,
      "outputs": []
    },
    {
      "cell_type": "code",
      "metadata": {
        "id": "i_wlmeuT7enp"
      },
      "source": [
        "'''\r\n",
        "Function read_from_mat is for reading .mat file in numpy format, at the same time\r\n",
        "class label is converted to one-hot encoding  \r\n",
        "'''\r\n",
        "def read_from_mat(data_file_name, label_file_name):\r\n",
        "  data = loadmat(data_file_name, struct_as_record=False,squeeze_me=True)\r\n",
        "  lb = loadmat(label_file_name)\r\n",
        "  ecg_data = data['ECGData'].Data\r\n",
        "  ecg_lb = np.squeeze(lb['label']) - 1\r\n",
        "  # convert label to one-hot\r\n",
        "  shape = (ecg_lb.size, ecg_lb.max() + 1)\r\n",
        "  one_hot_lb = np.zeros(shape)\r\n",
        "  rows = np.arange(ecg_lb.size)\r\n",
        "  one_hot_lb[rows, ecg_lb] = 1\r\n",
        "  return ecg_data, ecg_lb, one_hot_lb\r\n",
        "'''\r\n",
        "Function sliding_window_seg is used to segment data depending on window_size and stride,\r\n",
        "If window_size == stride, then no overlap. \r\n",
        "'''\r\n",
        "def sliding_window_seg(data, label, window_size, stride=1000):\r\n",
        "    trunc_data = data\r\n",
        "    print(trunc_data.shape)\r\n",
        "    modulo = np.mod(trunc_data.shape[1]-window_size, stride)\r\n",
        "    print(modulo)\r\n",
        "    data_all = trunc_data[:,modulo:]\r\n",
        "    row_num = int(((data_all.shape[1] - window_size)// stride + 1) * trunc_data.shape[0])\r\n",
        "    num_chunk = int((data_all.shape[1] - window_size)// stride + 1)\r\n",
        "    new_data = np.zeros((row_num, window_size))\r\n",
        "    print(new_data.shape)\r\n",
        "    new_label = np.zeros((row_num, label.shape[1]))\r\n",
        "    print(new_label.shape)\r\n",
        "    for i in range(data_all.shape[0]):\r\n",
        "      for j in range(num_chunk):\r\n",
        "        new_data[i * num_chunk + j] = data_all[i, j * window_size: (j + 1)* window_size]\r\n",
        "        new_label[i * num_chunk + j] = label[i] \r\n",
        "    return new_data, new_label "
      ],
      "execution_count": 5,
      "outputs": []
    },
    {
      "cell_type": "code",
      "metadata": {
        "colab": {
          "base_uri": "https://localhost:8080/"
        },
        "id": "xZUtmStg736G",
        "outputId": "d79b62ca-c742-4f61-e79d-a827cdb6ff14"
      },
      "source": [
        "ecg_data, _, ecg_label = read_from_mat('ECGData.mat', 'ecg_label.mat')\r\n",
        "ecg_data_new, ecg_label_new = sliding_window_seg(ecg_data, ecg_label, 1000, stride = 1000 )\r\n",
        "print(ecg_data_new.shape)\r\n",
        "print(ecg_label_new.shape)"
      ],
      "execution_count": 9,
      "outputs": [
        {
          "output_type": "stream",
          "text": [
            "(162, 65536)\n",
            "536\n",
            "(10530, 1000)\n",
            "(10530, 3)\n",
            "(10530, 1000)\n",
            "(10530, 3)\n"
          ],
          "name": "stdout"
        }
      ]
    },
    {
      "cell_type": "code",
      "metadata": {
        "id": "QyfT6ObdCCiD"
      },
      "source": [
        "'''\r\n",
        "Number of training data is ratio * data.shape[0]\r\n",
        "'''\r\n",
        "def train_test_split(data, label, ratio):\r\n",
        "    # shuffle train data\r\n",
        "    perm = np.arange(data.shape[0])\r\n",
        "    np.random.shuffle(perm)\r\n",
        "    X = data[perm]\r\n",
        "    y = label[perm]\r\n",
        "    train_idx = int(data.shape[0] * ratio)\r\n",
        "    X_train, X_test = X[:train_idx], X[train_idx:]\r\n",
        "    y_train, y_test = y[:train_idx], y[train_idx:]\r\n",
        "    \r\n",
        "    return X_train, X_test, y_train, y_test\r\n",
        "\r\n",
        "X_train, X_test, y_train, y_test = train_test_split(ecg_data_new, ecg_label_new, 0.8)"
      ],
      "execution_count": 10,
      "outputs": []
    },
    {
      "cell_type": "code",
      "metadata": {
        "colab": {
          "base_uri": "https://localhost:8080/"
        },
        "id": "IpBah76uCF4u",
        "outputId": "c93223bb-bd4f-4a83-e31f-747385497e38"
      },
      "source": [
        "X_train.shape"
      ],
      "execution_count": 11,
      "outputs": [
        {
          "output_type": "execute_result",
          "data": {
            "text/plain": [
              "(8424, 1000)"
            ]
          },
          "metadata": {
            "tags": []
          },
          "execution_count": 11
        }
      ]
    },
    {
      "cell_type": "code",
      "metadata": {
        "id": "faeB3kiVefXp"
      },
      "source": [
        "from skimage.transform import resize\r\n",
        "def create_cwt_image(X, n_scales, rescale_size, wavelet_name = \"morl\", n_channels = 1):\r\n",
        "  n_samples = X.shape[0]\r\n",
        "  \r\n",
        "  scales = np.arange(1, n_scales + 1)\r\n",
        "  X_cwt = np.ndarray(shape = (n_samples, rescale_size, rescale_size, n_channels), dtype = 'float32')\r\n",
        "  for sample in range(n_samples):\r\n",
        "      #print(sample)\r\n",
        "      for signal in range(n_channels):\r\n",
        "        serie = X[sample]\r\n",
        "        coeffs, freq = pywt.cwt(serie, scales, wavelet_name)\r\n",
        "        rescale_coeffs = resize(coeffs, (rescale_size, rescale_size), mode = 'constant')\r\n",
        "        #print(rescale_coeffs, 'fdasfdsjfkhlaksjdfhakjlsdhflkasdhfkljadshkflj')\r\n",
        "        X_cwt[sample, :,:, signal] = rescale_coeffs\r\n",
        "  return X_cwt"
      ],
      "execution_count": 12,
      "outputs": []
    },
    {
      "cell_type": "code",
      "metadata": {
        "id": "h9tGRXE3ejmA"
      },
      "source": [
        "rescale_size = 64\r\n",
        "n_scales = 64\r\n",
        "X_train_cwt = create_cwt_image(X_train, n_scales, rescale_size)\r\n",
        "X_test_cwt = create_cwt_image(X_test, n_scales, rescale_size)"
      ],
      "execution_count": 13,
      "outputs": []
    },
    {
      "cell_type": "code",
      "metadata": {
        "colab": {
          "base_uri": "https://localhost:8080/"
        },
        "id": "HvyNgP4hgawh",
        "outputId": "65b36c61-0b8a-4939-ae2f-cae81e04f7ab"
      },
      "source": [
        "X_test_cwt[600]"
      ],
      "execution_count": 14,
      "outputs": [
        {
          "output_type": "execute_result",
          "data": {
            "text/plain": [
              "array([[[ 5.3058518e-04],\n",
              "        [ 1.6079686e-03],\n",
              "        [-1.1699852e-03],\n",
              "        ...,\n",
              "        [-3.2627591e-04],\n",
              "        [ 1.6242644e-03],\n",
              "        [-2.4347727e-03]],\n",
              "\n",
              "       [[-5.2345684e-04],\n",
              "        [-1.9353589e-05],\n",
              "        [ 5.8216774e-06],\n",
              "        ...,\n",
              "        [ 3.0223387e-06],\n",
              "        [-5.4459942e-06],\n",
              "        [ 8.6414587e-04]],\n",
              "\n",
              "       [[-1.3838114e-03],\n",
              "        [ 3.5453492e-04],\n",
              "        [-3.1897769e-04],\n",
              "        ...,\n",
              "        [-8.2588434e-05],\n",
              "        [ 3.9468711e-04],\n",
              "        [ 2.2996068e-03]],\n",
              "\n",
              "       ...,\n",
              "\n",
              "       [[-1.3910391e+00],\n",
              "        [-9.3443376e-01],\n",
              "        [ 1.1824228e+00],\n",
              "        ...,\n",
              "        [-1.8763237e+00],\n",
              "        [-1.0738070e+00],\n",
              "        [ 6.0249692e-01]],\n",
              "\n",
              "       [[-1.4243041e+00],\n",
              "        [-8.8192654e-01],\n",
              "        [ 1.2208852e+00],\n",
              "        ...,\n",
              "        [-1.8988549e+00],\n",
              "        [-1.1209810e+00],\n",
              "        [ 5.4483855e-01]],\n",
              "\n",
              "       [[-1.4081235e+00],\n",
              "        [-8.4434927e-01],\n",
              "        [ 1.2607648e+00],\n",
              "        ...,\n",
              "        [-1.8797975e+00],\n",
              "        [-1.2023215e+00],\n",
              "        [ 5.0405222e-01]]], dtype=float32)"
            ]
          },
          "metadata": {
            "tags": []
          },
          "execution_count": 14
        }
      ]
    },
    {
      "cell_type": "code",
      "metadata": {
        "id": "NhyWXBDCLtLH"
      },
      "source": [
        "\r\n",
        "def get_wav_model(input_shape, stride=2, dim = 1):\r\n",
        "  # input_shape should be a list with the first element as length, the second \r\n",
        "  # element as width\r\n",
        "  inputs = layers.Input(shape =(input_shape[0], input_shape[1], dim), name = 'input')\r\n",
        "  x = layers.Conv2D(filters=32, kernel_size = 3, activation ='relu',padding='same',strides=stride)(inputs)\r\n",
        "  x = layers.Conv2D(filters=64, kernel_size=3, activation='relu',padding='same',strides=stride)(x)\r\n",
        "  #x = layers.Dropout(0.2)(x)\r\n",
        "  x = layers.MaxPooling2D(pool_size=2)(x)\r\n",
        "  outputs = layers.Flatten()(x)\r\n",
        "  outputs = layers.Dense(128, activation= 'tanh')(outputs)\r\n",
        "  outputs = layers.Dense(64, activation='tanh')(outputs)\r\n",
        "  outputs = layers.Dense(num_classes, activation='softmax')(outputs)\r\n",
        "  wav_model = keras.Model(inputs, outputs = outputs)\r\n",
        "  return wav_model"
      ],
      "execution_count": 15,
      "outputs": []
    },
    {
      "cell_type": "code",
      "metadata": {
        "id": "WKnZG9xGSo_e"
      },
      "source": [
        "num_classes = 3\r\n",
        "input_shape = [64, 64]\r\n",
        "wav_model =  get_wav_model(input_shape)\r\n",
        "wav_model.compile(\r\n",
        "    optimizer=tf.keras.optimizers.Adam(lr=0.001),\r\n",
        "    loss=tf.keras.losses.CategoricalCrossentropy(from_logits=False),\r\n",
        "    metrics=[tf.keras.metrics.CategoricalAccuracy()],\r\n",
        ")"
      ],
      "execution_count": 16,
      "outputs": []
    },
    {
      "cell_type": "code",
      "metadata": {
        "colab": {
          "base_uri": "https://localhost:8080/"
        },
        "id": "mLJ3D9eT8n9d",
        "outputId": "052b7e47-a61d-42f5-99a3-8a638ec53e00"
      },
      "source": [
        "wav_model.summary()"
      ],
      "execution_count": 17,
      "outputs": [
        {
          "output_type": "stream",
          "text": [
            "Model: \"model\"\n",
            "_________________________________________________________________\n",
            "Layer (type)                 Output Shape              Param #   \n",
            "=================================================================\n",
            "input (InputLayer)           [(None, 64, 64, 1)]       0         \n",
            "_________________________________________________________________\n",
            "conv2d (Conv2D)              (None, 32, 32, 32)        320       \n",
            "_________________________________________________________________\n",
            "conv2d_1 (Conv2D)            (None, 16, 16, 64)        18496     \n",
            "_________________________________________________________________\n",
            "max_pooling2d (MaxPooling2D) (None, 8, 8, 64)          0         \n",
            "_________________________________________________________________\n",
            "flatten (Flatten)            (None, 4096)              0         \n",
            "_________________________________________________________________\n",
            "dense (Dense)                (None, 128)               524416    \n",
            "_________________________________________________________________\n",
            "dense_1 (Dense)              (None, 64)                8256      \n",
            "_________________________________________________________________\n",
            "dense_2 (Dense)              (None, 3)                 195       \n",
            "=================================================================\n",
            "Total params: 551,683\n",
            "Trainable params: 551,683\n",
            "Non-trainable params: 0\n",
            "_________________________________________________________________\n"
          ],
          "name": "stdout"
        }
      ]
    },
    {
      "cell_type": "code",
      "metadata": {
        "colab": {
          "base_uri": "https://localhost:8080/"
        },
        "id": "2RBe3xMcSvdS",
        "outputId": "39c9e91c-d8ed-4392-daed-b4cdff5b2e4f"
      },
      "source": [
        "wav_trace = wav_model.fit(x=X_train_cwt, y=y_train, batch_size=16, epochs=100, verbose=1, validation_split=0.3, shuffle=True)"
      ],
      "execution_count": 21,
      "outputs": [
        {
          "output_type": "stream",
          "text": [
            "Epoch 1/100\n",
            "369/369 [==============================] - 2s 4ms/step - loss: 0.1972 - categorical_accuracy: 0.9520 - val_loss: 0.6927 - val_categorical_accuracy: 0.7872\n",
            "Epoch 2/100\n",
            "369/369 [==============================] - 1s 4ms/step - loss: 0.1322 - categorical_accuracy: 0.9512 - val_loss: 0.7743 - val_categorical_accuracy: 0.8271\n",
            "Epoch 3/100\n",
            "369/369 [==============================] - 1s 4ms/step - loss: 0.0332 - categorical_accuracy: 0.9885 - val_loss: 0.8236 - val_categorical_accuracy: 0.8378\n",
            "Epoch 4/100\n",
            "369/369 [==============================] - 1s 4ms/step - loss: 0.0182 - categorical_accuracy: 0.9947 - val_loss: 0.7937 - val_categorical_accuracy: 0.8386\n",
            "Epoch 5/100\n",
            "369/369 [==============================] - 1s 4ms/step - loss: 0.0246 - categorical_accuracy: 0.9922 - val_loss: 0.8666 - val_categorical_accuracy: 0.8461\n",
            "Epoch 6/100\n",
            "369/369 [==============================] - 1s 4ms/step - loss: 0.0175 - categorical_accuracy: 0.9944 - val_loss: 0.9929 - val_categorical_accuracy: 0.8283\n",
            "Epoch 7/100\n",
            "369/369 [==============================] - 1s 4ms/step - loss: 0.0368 - categorical_accuracy: 0.9883 - val_loss: 1.0229 - val_categorical_accuracy: 0.8244\n",
            "Epoch 8/100\n",
            "369/369 [==============================] - 1s 4ms/step - loss: 0.0393 - categorical_accuracy: 0.9880 - val_loss: 0.9672 - val_categorical_accuracy: 0.8378\n",
            "Epoch 9/100\n",
            "369/369 [==============================] - 1s 4ms/step - loss: 0.0246 - categorical_accuracy: 0.9925 - val_loss: 0.8479 - val_categorical_accuracy: 0.8453\n",
            "Epoch 10/100\n",
            "369/369 [==============================] - 2s 4ms/step - loss: 0.0086 - categorical_accuracy: 0.9976 - val_loss: 0.9174 - val_categorical_accuracy: 0.8259\n",
            "Epoch 11/100\n",
            "369/369 [==============================] - 2s 4ms/step - loss: 0.0026 - categorical_accuracy: 0.9998 - val_loss: 0.9143 - val_categorical_accuracy: 0.8374\n",
            "Epoch 12/100\n",
            "369/369 [==============================] - 2s 4ms/step - loss: 4.3604e-04 - categorical_accuracy: 1.0000 - val_loss: 0.9327 - val_categorical_accuracy: 0.8406\n",
            "Epoch 13/100\n",
            "369/369 [==============================] - 2s 4ms/step - loss: 2.9593e-04 - categorical_accuracy: 1.0000 - val_loss: 0.9527 - val_categorical_accuracy: 0.8422\n",
            "Epoch 14/100\n",
            "369/369 [==============================] - 2s 4ms/step - loss: 2.3327e-04 - categorical_accuracy: 1.0000 - val_loss: 0.9660 - val_categorical_accuracy: 0.8422\n",
            "Epoch 15/100\n",
            "369/369 [==============================] - 2s 4ms/step - loss: 1.8942e-04 - categorical_accuracy: 1.0000 - val_loss: 0.9828 - val_categorical_accuracy: 0.8426\n",
            "Epoch 16/100\n",
            "369/369 [==============================] - 1s 4ms/step - loss: 1.5525e-04 - categorical_accuracy: 1.0000 - val_loss: 0.9952 - val_categorical_accuracy: 0.8426\n",
            "Epoch 17/100\n",
            "369/369 [==============================] - 1s 4ms/step - loss: 1.2885e-04 - categorical_accuracy: 1.0000 - val_loss: 1.0131 - val_categorical_accuracy: 0.8434\n",
            "Epoch 18/100\n",
            "369/369 [==============================] - 1s 4ms/step - loss: 1.0762e-04 - categorical_accuracy: 1.0000 - val_loss: 1.0251 - val_categorical_accuracy: 0.8441\n",
            "Epoch 19/100\n",
            "369/369 [==============================] - 1s 4ms/step - loss: 8.9664e-05 - categorical_accuracy: 1.0000 - val_loss: 1.0390 - val_categorical_accuracy: 0.8445\n",
            "Epoch 20/100\n",
            "369/369 [==============================] - 1s 4ms/step - loss: 7.4041e-05 - categorical_accuracy: 1.0000 - val_loss: 1.0568 - val_categorical_accuracy: 0.8434\n",
            "Epoch 21/100\n",
            "369/369 [==============================] - 1s 4ms/step - loss: 6.1940e-05 - categorical_accuracy: 1.0000 - val_loss: 1.0696 - val_categorical_accuracy: 0.8441\n",
            "Epoch 22/100\n",
            "369/369 [==============================] - 1s 4ms/step - loss: 5.1854e-05 - categorical_accuracy: 1.0000 - val_loss: 1.0861 - val_categorical_accuracy: 0.8434\n",
            "Epoch 23/100\n",
            "369/369 [==============================] - 1s 4ms/step - loss: 4.2903e-05 - categorical_accuracy: 1.0000 - val_loss: 1.0995 - val_categorical_accuracy: 0.8441\n",
            "Epoch 24/100\n",
            "369/369 [==============================] - 1s 4ms/step - loss: 3.5609e-05 - categorical_accuracy: 1.0000 - val_loss: 1.1139 - val_categorical_accuracy: 0.8445\n",
            "Epoch 25/100\n",
            "369/369 [==============================] - 1s 4ms/step - loss: 2.9544e-05 - categorical_accuracy: 1.0000 - val_loss: 1.1353 - val_categorical_accuracy: 0.8441\n",
            "Epoch 26/100\n",
            "369/369 [==============================] - 1s 4ms/step - loss: 2.4516e-05 - categorical_accuracy: 1.0000 - val_loss: 1.1469 - val_categorical_accuracy: 0.8445\n",
            "Epoch 27/100\n",
            "369/369 [==============================] - 1s 4ms/step - loss: 2.0454e-05 - categorical_accuracy: 1.0000 - val_loss: 1.1625 - val_categorical_accuracy: 0.8434\n",
            "Epoch 28/100\n",
            "369/369 [==============================] - 1s 4ms/step - loss: 1.6949e-05 - categorical_accuracy: 1.0000 - val_loss: 1.1792 - val_categorical_accuracy: 0.8426\n",
            "Epoch 29/100\n",
            "369/369 [==============================] - 1s 4ms/step - loss: 1.4140e-05 - categorical_accuracy: 1.0000 - val_loss: 1.1935 - val_categorical_accuracy: 0.8430\n",
            "Epoch 30/100\n",
            "369/369 [==============================] - 1s 4ms/step - loss: 1.1793e-05 - categorical_accuracy: 1.0000 - val_loss: 1.2049 - val_categorical_accuracy: 0.8430\n",
            "Epoch 31/100\n",
            "369/369 [==============================] - 1s 4ms/step - loss: 9.8639e-06 - categorical_accuracy: 1.0000 - val_loss: 1.2186 - val_categorical_accuracy: 0.8418\n",
            "Epoch 32/100\n",
            "369/369 [==============================] - 1s 4ms/step - loss: 8.2508e-06 - categorical_accuracy: 1.0000 - val_loss: 1.2355 - val_categorical_accuracy: 0.8406\n",
            "Epoch 33/100\n",
            "369/369 [==============================] - 1s 4ms/step - loss: 6.8946e-06 - categorical_accuracy: 1.0000 - val_loss: 1.2571 - val_categorical_accuracy: 0.8426\n",
            "Epoch 34/100\n",
            "369/369 [==============================] - 1s 4ms/step - loss: 5.7752e-06 - categorical_accuracy: 1.0000 - val_loss: 1.2719 - val_categorical_accuracy: 0.8426\n",
            "Epoch 35/100\n",
            "369/369 [==============================] - 1s 4ms/step - loss: 4.8305e-06 - categorical_accuracy: 1.0000 - val_loss: 1.2799 - val_categorical_accuracy: 0.8426\n",
            "Epoch 36/100\n",
            "369/369 [==============================] - 1s 4ms/step - loss: 4.0461e-06 - categorical_accuracy: 1.0000 - val_loss: 1.2994 - val_categorical_accuracy: 0.8434\n",
            "Epoch 37/100\n",
            "369/369 [==============================] - 1s 4ms/step - loss: 3.3792e-06 - categorical_accuracy: 1.0000 - val_loss: 1.3172 - val_categorical_accuracy: 0.8430\n",
            "Epoch 38/100\n",
            "369/369 [==============================] - 2s 4ms/step - loss: 2.8168e-06 - categorical_accuracy: 1.0000 - val_loss: 1.3307 - val_categorical_accuracy: 0.8438\n",
            "Epoch 39/100\n",
            "369/369 [==============================] - 1s 4ms/step - loss: 2.3447e-06 - categorical_accuracy: 1.0000 - val_loss: 1.3469 - val_categorical_accuracy: 0.8438\n",
            "Epoch 40/100\n",
            "369/369 [==============================] - 1s 4ms/step - loss: 1.9412e-06 - categorical_accuracy: 1.0000 - val_loss: 1.3639 - val_categorical_accuracy: 0.8441\n",
            "Epoch 41/100\n",
            "369/369 [==============================] - 1s 4ms/step - loss: 1.6036e-06 - categorical_accuracy: 1.0000 - val_loss: 1.3792 - val_categorical_accuracy: 0.8426\n",
            "Epoch 42/100\n",
            "369/369 [==============================] - 1s 4ms/step - loss: 1.3176e-06 - categorical_accuracy: 1.0000 - val_loss: 1.4082 - val_categorical_accuracy: 0.8430\n",
            "Epoch 43/100\n",
            "369/369 [==============================] - 2s 4ms/step - loss: 1.0782e-06 - categorical_accuracy: 1.0000 - val_loss: 1.4275 - val_categorical_accuracy: 0.8438\n",
            "Epoch 44/100\n",
            "369/369 [==============================] - 1s 4ms/step - loss: 8.7991e-07 - categorical_accuracy: 1.0000 - val_loss: 1.4521 - val_categorical_accuracy: 0.8434\n",
            "Epoch 45/100\n",
            "369/369 [==============================] - 2s 4ms/step - loss: 7.1180e-07 - categorical_accuracy: 1.0000 - val_loss: 1.4788 - val_categorical_accuracy: 0.8445\n",
            "Epoch 46/100\n",
            "369/369 [==============================] - 1s 4ms/step - loss: 5.7332e-07 - categorical_accuracy: 1.0000 - val_loss: 1.4951 - val_categorical_accuracy: 0.8434\n",
            "Epoch 47/100\n",
            "369/369 [==============================] - 1s 4ms/step - loss: 4.6005e-07 - categorical_accuracy: 1.0000 - val_loss: 1.5196 - val_categorical_accuracy: 0.8438\n",
            "Epoch 48/100\n",
            "369/369 [==============================] - 1s 4ms/step - loss: 3.6879e-07 - categorical_accuracy: 1.0000 - val_loss: 1.5337 - val_categorical_accuracy: 0.8445\n",
            "Epoch 49/100\n",
            "369/369 [==============================] - 1s 4ms/step - loss: 2.9873e-07 - categorical_accuracy: 1.0000 - val_loss: 1.5576 - val_categorical_accuracy: 0.8445\n",
            "Epoch 50/100\n",
            "369/369 [==============================] - 1s 4ms/step - loss: 2.4297e-07 - categorical_accuracy: 1.0000 - val_loss: 1.5851 - val_categorical_accuracy: 0.8430\n",
            "Epoch 51/100\n",
            "369/369 [==============================] - 1s 4ms/step - loss: 2.0053e-07 - categorical_accuracy: 1.0000 - val_loss: 1.5954 - val_categorical_accuracy: 0.8438\n",
            "Epoch 52/100\n",
            "369/369 [==============================] - 2s 4ms/step - loss: 1.6660e-07 - categorical_accuracy: 1.0000 - val_loss: 1.6112 - val_categorical_accuracy: 0.8438\n",
            "Epoch 53/100\n",
            "369/369 [==============================] - 1s 4ms/step - loss: 1.3749e-07 - categorical_accuracy: 1.0000 - val_loss: 1.6238 - val_categorical_accuracy: 0.8430\n",
            "Epoch 54/100\n",
            "369/369 [==============================] - 2s 4ms/step - loss: 1.1478e-07 - categorical_accuracy: 1.0000 - val_loss: 1.6406 - val_categorical_accuracy: 0.8426\n",
            "Epoch 55/100\n",
            "369/369 [==============================] - 1s 4ms/step - loss: 9.6423e-08 - categorical_accuracy: 1.0000 - val_loss: 1.6544 - val_categorical_accuracy: 0.8422\n",
            "Epoch 56/100\n",
            "369/369 [==============================] - 1s 4ms/step - loss: 8.0369e-08 - categorical_accuracy: 1.0000 - val_loss: 1.6664 - val_categorical_accuracy: 0.8422\n",
            "Epoch 57/100\n",
            "369/369 [==============================] - 2s 4ms/step - loss: 6.7187e-08 - categorical_accuracy: 1.0000 - val_loss: 1.6808 - val_categorical_accuracy: 0.8426\n",
            "Epoch 58/100\n",
            "369/369 [==============================] - 1s 4ms/step - loss: 5.5783e-08 - categorical_accuracy: 1.0000 - val_loss: 1.6894 - val_categorical_accuracy: 0.8426\n",
            "Epoch 59/100\n",
            "369/369 [==============================] - 1s 4ms/step - loss: 4.7251e-08 - categorical_accuracy: 1.0000 - val_loss: 1.6987 - val_categorical_accuracy: 0.8430\n",
            "Epoch 60/100\n",
            "369/369 [==============================] - 2s 4ms/step - loss: 4.0296e-08 - categorical_accuracy: 1.0000 - val_loss: 1.7096 - val_categorical_accuracy: 0.8430\n",
            "Epoch 61/100\n",
            "369/369 [==============================] - 2s 4ms/step - loss: 3.3806e-08 - categorical_accuracy: 1.0000 - val_loss: 1.7248 - val_categorical_accuracy: 0.8426\n",
            "Epoch 62/100\n",
            "369/369 [==============================] - 1s 4ms/step - loss: 2.8508e-08 - categorical_accuracy: 1.0000 - val_loss: 1.7347 - val_categorical_accuracy: 0.8434\n",
            "Epoch 63/100\n",
            "369/369 [==============================] - 1s 4ms/step - loss: 2.4424e-08 - categorical_accuracy: 1.0000 - val_loss: 1.7434 - val_categorical_accuracy: 0.8426\n",
            "Epoch 64/100\n",
            "369/369 [==============================] - 2s 4ms/step - loss: 2.0441e-08 - categorical_accuracy: 1.0000 - val_loss: 1.7502 - val_categorical_accuracy: 0.8430\n",
            "Epoch 65/100\n",
            "369/369 [==============================] - 1s 4ms/step - loss: 1.7509e-08 - categorical_accuracy: 1.0000 - val_loss: 1.7556 - val_categorical_accuracy: 0.8418\n",
            "Epoch 66/100\n",
            "369/369 [==============================] - 2s 4ms/step - loss: 1.4760e-08 - categorical_accuracy: 1.0000 - val_loss: 1.7690 - val_categorical_accuracy: 0.8438\n",
            "Epoch 67/100\n",
            "369/369 [==============================] - 1s 4ms/step - loss: 1.2414e-08 - categorical_accuracy: 1.0000 - val_loss: 1.7721 - val_categorical_accuracy: 0.8430\n",
            "Epoch 68/100\n",
            "369/369 [==============================] - 1s 4ms/step - loss: 1.0797e-08 - categorical_accuracy: 1.0000 - val_loss: 1.7868 - val_categorical_accuracy: 0.8426\n",
            "Epoch 69/100\n",
            "369/369 [==============================] - 2s 4ms/step - loss: 8.8153e-09 - categorical_accuracy: 1.0000 - val_loss: 1.7960 - val_categorical_accuracy: 0.8430\n",
            "Epoch 70/100\n",
            "369/369 [==============================] - 2s 4ms/step - loss: 7.3798e-09 - categorical_accuracy: 1.0000 - val_loss: 1.7978 - val_categorical_accuracy: 0.8434\n",
            "Epoch 71/100\n",
            "369/369 [==============================] - 1s 4ms/step - loss: 6.2274e-09 - categorical_accuracy: 1.0000 - val_loss: 1.8040 - val_categorical_accuracy: 0.8441\n",
            "Epoch 72/100\n",
            "369/369 [==============================] - 1s 4ms/step - loss: 5.0749e-09 - categorical_accuracy: 1.0000 - val_loss: 1.8112 - val_categorical_accuracy: 0.8441\n",
            "Epoch 73/100\n",
            "369/369 [==============================] - 1s 4ms/step - loss: 4.3470e-09 - categorical_accuracy: 1.0000 - val_loss: 1.8183 - val_categorical_accuracy: 0.8441\n",
            "Epoch 74/100\n",
            "369/369 [==============================] - 2s 4ms/step - loss: 3.3967e-09 - categorical_accuracy: 1.0000 - val_loss: 1.8232 - val_categorical_accuracy: 0.8441\n",
            "Epoch 75/100\n",
            "369/369 [==============================] - 1s 4ms/step - loss: 2.8508e-09 - categorical_accuracy: 1.0000 - val_loss: 1.8315 - val_categorical_accuracy: 0.8453\n",
            "Epoch 76/100\n",
            "369/369 [==============================] - 1s 4ms/step - loss: 2.4465e-09 - categorical_accuracy: 1.0000 - val_loss: 1.8320 - val_categorical_accuracy: 0.8445\n",
            "Epoch 77/100\n",
            "369/369 [==============================] - 1s 4ms/step - loss: 1.9410e-09 - categorical_accuracy: 1.0000 - val_loss: 1.8387 - val_categorical_accuracy: 0.8449\n",
            "Epoch 78/100\n",
            "369/369 [==============================] - 2s 4ms/step - loss: 1.6781e-09 - categorical_accuracy: 1.0000 - val_loss: 1.8448 - val_categorical_accuracy: 0.8449\n",
            "Epoch 79/100\n",
            "369/369 [==============================] - 1s 4ms/step - loss: 1.6579e-09 - categorical_accuracy: 1.0000 - val_loss: 1.8484 - val_categorical_accuracy: 0.8449\n",
            "Epoch 80/100\n",
            "369/369 [==============================] - 2s 4ms/step - loss: 1.3749e-09 - categorical_accuracy: 1.0000 - val_loss: 1.8579 - val_categorical_accuracy: 0.8441\n",
            "Epoch 81/100\n",
            "369/369 [==============================] - 2s 4ms/step - loss: 1.1525e-09 - categorical_accuracy: 1.0000 - val_loss: 1.8623 - val_categorical_accuracy: 0.8441\n",
            "Epoch 82/100\n",
            "369/369 [==============================] - 1s 4ms/step - loss: 8.2897e-10 - categorical_accuracy: 1.0000 - val_loss: 1.8656 - val_categorical_accuracy: 0.8441\n",
            "Epoch 83/100\n",
            "369/369 [==============================] - 1s 4ms/step - loss: 8.0875e-10 - categorical_accuracy: 1.0000 - val_loss: 1.8710 - val_categorical_accuracy: 0.8441\n",
            "Epoch 84/100\n",
            "369/369 [==============================] - 1s 4ms/step - loss: 7.4809e-10 - categorical_accuracy: 1.0000 - val_loss: 1.8752 - val_categorical_accuracy: 0.8449\n",
            "Epoch 85/100\n",
            "369/369 [==============================] - 1s 4ms/step - loss: 6.0656e-10 - categorical_accuracy: 1.0000 - val_loss: 1.8730 - val_categorical_accuracy: 0.8445\n",
            "Epoch 86/100\n",
            "369/369 [==============================] - 1s 4ms/step - loss: 5.8634e-10 - categorical_accuracy: 1.0000 - val_loss: 1.8786 - val_categorical_accuracy: 0.8445\n",
            "Epoch 87/100\n",
            "369/369 [==============================] - 2s 4ms/step - loss: 5.4590e-10 - categorical_accuracy: 1.0000 - val_loss: 1.8873 - val_categorical_accuracy: 0.8438\n",
            "Epoch 88/100\n",
            "369/369 [==============================] - 2s 4ms/step - loss: 5.6612e-10 - categorical_accuracy: 1.0000 - val_loss: 1.8837 - val_categorical_accuracy: 0.8441\n",
            "Epoch 89/100\n",
            "369/369 [==============================] - 1s 4ms/step - loss: 4.6503e-10 - categorical_accuracy: 1.0000 - val_loss: 1.8855 - val_categorical_accuracy: 0.8445\n",
            "Epoch 90/100\n",
            "369/369 [==============================] - 2s 4ms/step - loss: 4.2459e-10 - categorical_accuracy: 1.0000 - val_loss: 1.8928 - val_categorical_accuracy: 0.8445\n",
            "Epoch 91/100\n",
            "369/369 [==============================] - 1s 4ms/step - loss: 4.2459e-10 - categorical_accuracy: 1.0000 - val_loss: 1.8957 - val_categorical_accuracy: 0.8441\n",
            "Epoch 92/100\n",
            "369/369 [==============================] - 1s 4ms/step - loss: 4.4481e-10 - categorical_accuracy: 1.0000 - val_loss: 1.8912 - val_categorical_accuracy: 0.8438\n",
            "Epoch 93/100\n",
            "369/369 [==============================] - 1s 4ms/step - loss: 0.3015 - categorical_accuracy: 0.9230 - val_loss: 0.7910 - val_categorical_accuracy: 0.8350\n",
            "Epoch 94/100\n",
            "369/369 [==============================] - 2s 4ms/step - loss: 0.0426 - categorical_accuracy: 0.9849 - val_loss: 0.9133 - val_categorical_accuracy: 0.8248\n",
            "Epoch 95/100\n",
            "369/369 [==============================] - 2s 4ms/step - loss: 0.0170 - categorical_accuracy: 0.9947 - val_loss: 0.8822 - val_categorical_accuracy: 0.8418\n",
            "Epoch 96/100\n",
            "369/369 [==============================] - 2s 4ms/step - loss: 0.0068 - categorical_accuracy: 0.9973 - val_loss: 0.9444 - val_categorical_accuracy: 0.8366\n",
            "Epoch 97/100\n",
            "369/369 [==============================] - 1s 4ms/step - loss: 0.0052 - categorical_accuracy: 0.9990 - val_loss: 1.0044 - val_categorical_accuracy: 0.8394\n",
            "Epoch 98/100\n",
            "369/369 [==============================] - 1s 4ms/step - loss: 0.0255 - categorical_accuracy: 0.9914 - val_loss: 1.0166 - val_categorical_accuracy: 0.8307\n",
            "Epoch 99/100\n",
            "369/369 [==============================] - 1s 4ms/step - loss: 0.0331 - categorical_accuracy: 0.9886 - val_loss: 1.1287 - val_categorical_accuracy: 0.8208\n",
            "Epoch 100/100\n",
            "369/369 [==============================] - 1s 4ms/step - loss: 0.0278 - categorical_accuracy: 0.9910 - val_loss: 0.9610 - val_categorical_accuracy: 0.8307\n"
          ],
          "name": "stdout"
        }
      ]
    },
    {
      "cell_type": "code",
      "metadata": {
        "colab": {
          "base_uri": "https://localhost:8080/"
        },
        "id": "rabwWC0nS1Ug",
        "outputId": "831d3075-82e9-4094-ac9a-527af31ebeb5"
      },
      "source": [
        "y_pred = wav_model.predict(X_test_cwt)\r\n",
        "\r\n",
        "acc = np.mean(np.argmax(y_test, axis=1) == np.argmax(y_pred, axis=1))\r\n",
        "\r\n",
        "print('The test accuracy is ', acc)"
      ],
      "execution_count": 22,
      "outputs": [
        {
          "output_type": "stream",
          "text": [
            "The test accuracy is  0.828584995251662\n"
          ],
          "name": "stdout"
        }
      ]
    },
    {
      "cell_type": "code",
      "metadata": {
        "id": "lWDBOHBcchgI",
        "colab": {
          "base_uri": "https://localhost:8080/",
          "height": 382
        },
        "outputId": "899df841-f2f9-44bd-bf29-65d7e0db0c44"
      },
      "source": [
        "import matplotlib.pyplot as plt\n",
        "\n",
        "plt.figure(figsize=(8,4),dpi=100)\n",
        "\n",
        "plt.subplot(2, 1, 1)\n",
        "plt.plot(wav_trace.history['loss'], '-o')\n",
        "plt.plot(wav_trace.history['val_loss'], '-o')\n",
        "plt.legend(['train', 'val'], loc='upper left')\n",
        "plt.xlabel('iteration')\n",
        "plt.ylabel('loss')\n",
        "\n",
        "plt.subplot(2, 1, 2)\n",
        "plt.plot(wav_trace.history['categorical_accuracy'], '-o')\n",
        "plt.plot(wav_trace.history['val_categorical_accuracy'], '-o')\n",
        "plt.legend(['train', 'val'], loc='upper left')\n",
        "plt.xlabel('epoch')\n",
        "plt.ylabel('accuracy')\n",
        "plt.show()"
      ],
      "execution_count": 23,
      "outputs": [
        {
          "output_type": "display_data",
          "data": {
            "image/png": "[encoded data removed]",
            "text/plain": [
              "<Figure size 800x400 with 2 Axes>"
            ]
          },
          "metadata": {
            "tags": [],
            "needs_background": "light"
          }
        }
      ]
    },
    {
      "cell_type": "code",
      "metadata": {
        "id": "E9o1BTU3XLWl"
      },
      "source": [
        ""
      ],
      "execution_count": null,
      "outputs": []
    }
  ]
}